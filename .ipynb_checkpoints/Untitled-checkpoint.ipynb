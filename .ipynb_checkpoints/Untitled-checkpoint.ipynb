{
 "cells": [
  {
   "cell_type": "code",
   "execution_count": 1,
   "id": "aaf33878",
   "metadata": {},
   "outputs": [
    {
     "name": "stdout",
     "output_type": "stream",
     "text": [
      "314159265358979323846264\n"
     ]
    }
   ],
   "source": [
    "import re\n",
    "\n",
    "mojiretu = 'How I want a drink, alcoholic of course, after the heavy chapters involving quantum mechanics. All of thy geometry, Herr Planck, is fairly hard.'\n",
    "\n",
    "cleaned_string = re.sub(r'[,.]', '', mojiretu)\n",
    "\n",
    "words = cleaned_string.split()\n",
    "\n",
    "pi=''\n",
    "\n",
    "for i in list(map(len, words)):\n",
    "    pi += str(i)\n",
    "\n",
    "print(pi)"
   ]
  },
  {
   "cell_type": "code",
   "execution_count": null,
   "id": "af8654e6",
   "metadata": {},
   "outputs": [],
   "source": [
    "\n",
    "線形回帰(回帰)\n",
    "from sklearn.linear_model import LinearRegression\n",
    "ロジスティック回帰(分類)\n",
    "from sklearn.linear_model import LogisticRegression\n",
    "決定木(回帰・分類)\n",
    "from sklearn.tree import DecisionTreeRegressor\n",
    "from sklearn.tree import DecisionTreeClassifier\n",
    "ランダムフォレスト(回帰・分類)\n",
    "from sklearn.ensemble import RandomForestRegressor\n",
    "from sklearn.ensemble import RandomForestClassifier\n",
    "サポートベクターマシン(回帰・分類)\n",
    "from sklearn.svm import SVR\n",
    "from sklearn.svm import SVC\n",
    "kNN(回帰・分類)\n",
    "from sklearn.neighbors import KNeighborsRegressor\n",
    "from sklearn.neighbors import KNeighborsClassifier\n",
    "ニューラルネットワーク(回帰・分類)\n",
    "from sklearn.neural_network import MLPRegressor\n",
    "from sklearn.neural_network import MLPClassifier\n",
    "勾配ブースティング(回帰・分類)\n",
    "import lightgbm as lgb\n",
    "objectiveを設定\n",
    "\n",
    "教師なし学習\n",
    "K-means(クラスタリング)\n",
    "from sklearn.cluster import KMeans\n",
    "混合ガウス(クラスタリング)\n",
    "from sklearn.mixture import GaussianMixture\n",
    "階層クラスタリング(クラスタリング)\n",
    "PCA(次元削減)\n",
    "from sklearn.decomposition import PCA\n",
    "\n",
    "\n",
    "深層学習\n",
    "強化学習\n",
    "画像処理\n",
    "物体検出\n",
    "テキスト処理"
   ]
  }
 ],
 "metadata": {
  "kernelspec": {
   "display_name": "Python 3 (ipykernel)",
   "language": "python",
   "name": "python3"
  },
  "language_info": {
   "codemirror_mode": {
    "name": "ipython",
    "version": 3
   },
   "file_extension": ".py",
   "mimetype": "text/x-python",
   "name": "python",
   "nbconvert_exporter": "python",
   "pygments_lexer": "ipython3",
   "version": "3.9.18"
  }
 },
 "nbformat": 4,
 "nbformat_minor": 5
}
