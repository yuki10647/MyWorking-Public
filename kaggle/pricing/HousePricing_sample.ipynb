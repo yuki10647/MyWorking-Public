{
 "cells": [
  {
   "cell_type": "code",
   "execution_count": null,
   "id": "c21c6d8d",
   "metadata": {},
   "outputs": [],
   "source": [
    "# # https://qiita.com/muscle_nishimi/items/901ed94f3cdf1c8d893a"
   ]
  },
  {
   "cell_type": "code",
   "execution_count": 1,
   "id": "d2e2f4c8",
   "metadata": {},
   "outputs": [],
   "source": [
    "# numpy , pandas\n",
    "import numpy as np \n",
    "import pandas as pd\n",
    "# scikit-learn\n",
    "from sklearn.preprocessing import StandardScaler\n",
    "from sklearn.linear_model import Lasso\n",
    "from sklearn.pipeline import make_pipeline\n",
    "from sklearn.model_selection import train_test_split\n",
    "from sklearn.metrics import mean_squared_error\n",
    "# 可視化用ライブラリ\n",
    "import matplotlib.pyplot as plt\n",
    "import seaborn as sns"
   ]
  },
  {
   "cell_type": "code",
   "execution_count": 3,
   "id": "8e186972",
   "metadata": {},
   "outputs": [],
   "source": [
    "# 学習データの読み込み\n",
    "train_df = pd.read_csv('train_pricing.csv') # ,index_col=0"
   ]
  },
  {
   "cell_type": "code",
   "execution_count": 4,
   "id": "f34c0070",
   "metadata": {},
   "outputs": [],
   "source": [
    "# 予測用データセットの読み込み\n",
    "test_df = pd.read_csv('test_pricing.csv') #  ,index_col=0\n",
    "# 学習データの説明変数と、予測用データを結合 (別々だと合わない)\n",
    "all_df = pd.concat([train_df.drop(columns='SalePrice'),test_df])"
   ]
  },
  {
   "cell_type": "code",
   "execution_count": 5,
   "id": "24fce7b4",
   "metadata": {},
   "outputs": [],
   "source": [
    "num2str_list = ['MSSubClass','YrSold','MoSold']\n",
    "for column in num2str_list:\n",
    "    all_df[column] = all_df[column].astype(str)"
   ]
  },
  {
   "cell_type": "code",
   "execution_count": 6,
   "id": "f9a226c2",
   "metadata": {},
   "outputs": [],
   "source": [
    "# 変数の型ごとに欠損値の扱いが異なるため、変数ごとに処理\n",
    "for column in all_df.columns:\n",
    "    # dtypeがobjectの場合、文字列の変数\n",
    "    if all_df[column].dtype=='O':\n",
    "        all_df[column] = all_df[column].fillna('None')\n",
    "    # dtypeがint , floatの場合、数字の変数\n",
    "    else:\n",
    "        all_df[column] = all_df[column].fillna(0)"
   ]
  },
  {
   "cell_type": "code",
   "execution_count": 7,
   "id": "bb8f8444",
   "metadata": {},
   "outputs": [],
   "source": [
    "# 特徴量エンジニアリングによりカラムを追加する関数\n",
    "def add_new_columns(df):\n",
    "    # 建物内の総面積 = 1階の面積 + 2階の面積 + 地下の面積\n",
    "    df[\"TotalSF\"] = df[\"1stFlrSF\"] + df[\"2ndFlrSF\"] + df[\"TotalBsmtSF\"]\n",
    "\n",
    "    # 一部屋あたりの平均面積 = 建物の総面積 / 部屋数\n",
    "    df['AreaPerRoom'] = df['TotalSF']/df['TotRmsAbvGrd']\n",
    "\n",
    "    # 築年数 + 最新リフォーム年 : この値が大きいほど値段が高くなりそう\n",
    "    df['YearBuiltPlusRemod']=df['YearBuilt']+df['YearRemodAdd']\n",
    "\n",
    "    # お風呂の総面積\n",
    "    # Full bath : 浴槽、シャワー、洗面台、便器全てが備わったバスルーム\n",
    "    # Half bath : 洗面台、便器が備わった部屋)(シャワールームがある場合もある)\n",
    "    # シャワーがない場合を想定してHalf Bathには0.5の係数をつける\n",
    "    df['TotalBathrooms'] = (df['FullBath'] + (0.5 * df['HalfBath']) + df['BsmtFullBath'] + (0.5 * df['BsmtHalfBath']))\n",
    "\n",
    "    # 合計の屋根付きの玄関の総面積 \n",
    "    # Porch : 屋根付きの玄関 日本風にいうと縁側\n",
    "    df['TotalPorchSF'] = (df['OpenPorchSF'] + df['3SsnPorch'] + df['EnclosedPorch'] + df['ScreenPorch'] + df['WoodDeckSF'])\n",
    "\n",
    "    # プールの有無\n",
    "    df['HasPool'] = df['PoolArea'].apply(lambda x: 1 if x > 0 else 0)\n",
    "\n",
    "    # 2階の有無\n",
    "    df['Has2ndFloor'] = df['2ndFlrSF'].apply(lambda x: 1 if x > 0 else 0)\n",
    "\n",
    "    # ガレージの有無\n",
    "    df['HasGarage'] = df['GarageArea'].apply(lambda x: 1 if x > 0 else 0)\n",
    "\n",
    "    # 地下室の有無\n",
    "    df['HasBsmt'] = df['TotalBsmtSF'].apply(lambda x: 1 if x > 0 else 0)\n",
    "\n",
    "    # 暖炉の有無\n",
    "    df['HasFireplace'] = df['Fireplaces'].apply(lambda x: 1 if x > 0 else 0)\n",
    "\n",
    "# カラムを追加\n",
    "add_new_columns(all_df)"
   ]
  },
  {
   "cell_type": "code",
   "execution_count": 8,
   "id": "dde08d4a",
   "metadata": {},
   "outputs": [
    {
     "data": {
      "text/html": [
       "<div>\n",
       "<style scoped>\n",
       "    .dataframe tbody tr th:only-of-type {\n",
       "        vertical-align: middle;\n",
       "    }\n",
       "\n",
       "    .dataframe tbody tr th {\n",
       "        vertical-align: top;\n",
       "    }\n",
       "\n",
       "    .dataframe thead th {\n",
       "        text-align: right;\n",
       "    }\n",
       "</style>\n",
       "<table border=\"1\" class=\"dataframe\">\n",
       "  <thead>\n",
       "    <tr style=\"text-align: right;\">\n",
       "      <th></th>\n",
       "      <th>Id</th>\n",
       "      <th>LotFrontage</th>\n",
       "      <th>LotArea</th>\n",
       "      <th>OverallQual</th>\n",
       "      <th>OverallCond</th>\n",
       "      <th>YearBuilt</th>\n",
       "      <th>YearRemodAdd</th>\n",
       "      <th>MasVnrArea</th>\n",
       "      <th>BsmtFinSF1</th>\n",
       "      <th>BsmtFinSF2</th>\n",
       "      <th>...</th>\n",
       "      <th>SaleType_New</th>\n",
       "      <th>SaleType_None</th>\n",
       "      <th>SaleType_Oth</th>\n",
       "      <th>SaleType_WD</th>\n",
       "      <th>SaleCondition_Abnorml</th>\n",
       "      <th>SaleCondition_AdjLand</th>\n",
       "      <th>SaleCondition_Alloca</th>\n",
       "      <th>SaleCondition_Family</th>\n",
       "      <th>SaleCondition_Normal</th>\n",
       "      <th>SaleCondition_Partial</th>\n",
       "    </tr>\n",
       "  </thead>\n",
       "  <tbody>\n",
       "    <tr>\n",
       "      <th>0</th>\n",
       "      <td>1</td>\n",
       "      <td>65.0</td>\n",
       "      <td>8450</td>\n",
       "      <td>7</td>\n",
       "      <td>5</td>\n",
       "      <td>2003</td>\n",
       "      <td>2003</td>\n",
       "      <td>196.0</td>\n",
       "      <td>706.0</td>\n",
       "      <td>0.0</td>\n",
       "      <td>...</td>\n",
       "      <td>0</td>\n",
       "      <td>0</td>\n",
       "      <td>0</td>\n",
       "      <td>1</td>\n",
       "      <td>0</td>\n",
       "      <td>0</td>\n",
       "      <td>0</td>\n",
       "      <td>0</td>\n",
       "      <td>1</td>\n",
       "      <td>0</td>\n",
       "    </tr>\n",
       "    <tr>\n",
       "      <th>1</th>\n",
       "      <td>2</td>\n",
       "      <td>80.0</td>\n",
       "      <td>9600</td>\n",
       "      <td>6</td>\n",
       "      <td>8</td>\n",
       "      <td>1976</td>\n",
       "      <td>1976</td>\n",
       "      <td>0.0</td>\n",
       "      <td>978.0</td>\n",
       "      <td>0.0</td>\n",
       "      <td>...</td>\n",
       "      <td>0</td>\n",
       "      <td>0</td>\n",
       "      <td>0</td>\n",
       "      <td>1</td>\n",
       "      <td>0</td>\n",
       "      <td>0</td>\n",
       "      <td>0</td>\n",
       "      <td>0</td>\n",
       "      <td>1</td>\n",
       "      <td>0</td>\n",
       "    </tr>\n",
       "    <tr>\n",
       "      <th>2</th>\n",
       "      <td>3</td>\n",
       "      <td>68.0</td>\n",
       "      <td>11250</td>\n",
       "      <td>7</td>\n",
       "      <td>5</td>\n",
       "      <td>2001</td>\n",
       "      <td>2002</td>\n",
       "      <td>162.0</td>\n",
       "      <td>486.0</td>\n",
       "      <td>0.0</td>\n",
       "      <td>...</td>\n",
       "      <td>0</td>\n",
       "      <td>0</td>\n",
       "      <td>0</td>\n",
       "      <td>1</td>\n",
       "      <td>0</td>\n",
       "      <td>0</td>\n",
       "      <td>0</td>\n",
       "      <td>0</td>\n",
       "      <td>1</td>\n",
       "      <td>0</td>\n",
       "    </tr>\n",
       "    <tr>\n",
       "      <th>3</th>\n",
       "      <td>4</td>\n",
       "      <td>60.0</td>\n",
       "      <td>9550</td>\n",
       "      <td>7</td>\n",
       "      <td>5</td>\n",
       "      <td>1915</td>\n",
       "      <td>1970</td>\n",
       "      <td>0.0</td>\n",
       "      <td>216.0</td>\n",
       "      <td>0.0</td>\n",
       "      <td>...</td>\n",
       "      <td>0</td>\n",
       "      <td>0</td>\n",
       "      <td>0</td>\n",
       "      <td>1</td>\n",
       "      <td>1</td>\n",
       "      <td>0</td>\n",
       "      <td>0</td>\n",
       "      <td>0</td>\n",
       "      <td>0</td>\n",
       "      <td>0</td>\n",
       "    </tr>\n",
       "    <tr>\n",
       "      <th>4</th>\n",
       "      <td>5</td>\n",
       "      <td>84.0</td>\n",
       "      <td>14260</td>\n",
       "      <td>8</td>\n",
       "      <td>5</td>\n",
       "      <td>2000</td>\n",
       "      <td>2000</td>\n",
       "      <td>350.0</td>\n",
       "      <td>655.0</td>\n",
       "      <td>0.0</td>\n",
       "      <td>...</td>\n",
       "      <td>0</td>\n",
       "      <td>0</td>\n",
       "      <td>0</td>\n",
       "      <td>1</td>\n",
       "      <td>0</td>\n",
       "      <td>0</td>\n",
       "      <td>0</td>\n",
       "      <td>0</td>\n",
       "      <td>1</td>\n",
       "      <td>0</td>\n",
       "    </tr>\n",
       "  </tbody>\n",
       "</table>\n",
       "<p>5 rows × 351 columns</p>\n",
       "</div>"
      ],
      "text/plain": [
       "   Id  LotFrontage  LotArea  OverallQual  OverallCond  YearBuilt  \\\n",
       "0   1         65.0     8450            7            5       2003   \n",
       "1   2         80.0     9600            6            8       1976   \n",
       "2   3         68.0    11250            7            5       2001   \n",
       "3   4         60.0     9550            7            5       1915   \n",
       "4   5         84.0    14260            8            5       2000   \n",
       "\n",
       "   YearRemodAdd  MasVnrArea  BsmtFinSF1  BsmtFinSF2  ...  SaleType_New  \\\n",
       "0          2003       196.0       706.0         0.0  ...             0   \n",
       "1          1976         0.0       978.0         0.0  ...             0   \n",
       "2          2002       162.0       486.0         0.0  ...             0   \n",
       "3          1970         0.0       216.0         0.0  ...             0   \n",
       "4          2000       350.0       655.0         0.0  ...             0   \n",
       "\n",
       "   SaleType_None  SaleType_Oth  SaleType_WD  SaleCondition_Abnorml  \\\n",
       "0              0             0            1                      0   \n",
       "1              0             0            1                      0   \n",
       "2              0             0            1                      0   \n",
       "3              0             0            1                      1   \n",
       "4              0             0            1                      0   \n",
       "\n",
       "   SaleCondition_AdjLand  SaleCondition_Alloca  SaleCondition_Family  \\\n",
       "0                      0                     0                     0   \n",
       "1                      0                     0                     0   \n",
       "2                      0                     0                     0   \n",
       "3                      0                     0                     0   \n",
       "4                      0                     0                     0   \n",
       "\n",
       "   SaleCondition_Normal  SaleCondition_Partial  \n",
       "0                     1                      0  \n",
       "1                     1                      0  \n",
       "2                     1                      0  \n",
       "3                     0                      0  \n",
       "4                     1                      0  \n",
       "\n",
       "[5 rows x 351 columns]"
      ]
     },
     "execution_count": 8,
     "metadata": {},
     "output_type": "execute_result"
    }
   ],
   "source": [
    "# pd.get_dummiesを使うとカテゴリ変数化できる。\n",
    "all_df = pd.get_dummies(all_df)\n",
    "all_df.head()"
   ]
  },
  {
   "cell_type": "code",
   "execution_count": 9,
   "id": "3bb2938c",
   "metadata": {},
   "outputs": [],
   "source": [
    "# 学習データと予測データに分割して元のデータフレームに戻す。\n",
    "train_df = pd.merge(all_df.iloc[train_df.index[0]:train_df.index[-1]],train_df['SalePrice'],left_index=True,right_index=True)\n",
    "test_df = all_df.iloc[train_df.index[-1]:]"
   ]
  },
  {
   "cell_type": "code",
   "execution_count": 10,
   "id": "82a91ee4",
   "metadata": {},
   "outputs": [
    {
     "name": "stderr",
     "output_type": "stream",
     "text": [
      "C:\\Users\\sibuya yuuki\\miniconda3\\lib\\site-packages\\seaborn\\distributions.py:2619: FutureWarning: `distplot` is a deprecated function and will be removed in a future version. Please adapt your code to use either `displot` (a figure-level function with similar flexibility) or `histplot` (an axes-level function for histograms).\n",
      "  warnings.warn(msg, FutureWarning)\n"
     ]
    },
    {
     "name": "stdout",
     "output_type": "stream",
     "text": [
      "count      1459.000000\n",
      "mean     180944.102810\n",
      "std       79464.918335\n",
      "min       34900.000000\n",
      "25%      129950.000000\n",
      "50%      163000.000000\n",
      "75%      214000.000000\n",
      "max      755000.000000\n",
      "Name: SalePrice, dtype: float64\n",
      "歪度: 1.8818\n",
      "尖度: 6.5299\n"
     ]
    },
    {
     "data": {
      "image/png": "[encoded data removed]",
      "text/plain": [
       "<Figure size 432x288 with 1 Axes>"
      ]
     },
     "metadata": {
      "needs_background": "light"
     },
     "output_type": "display_data"
    }
   ],
   "source": [
    "# 売却価格のヒストグラム\n",
    "sns.distplot(train_df['SalePrice'])\n",
    "# 売却価格の概要をみてみる\n",
    "print(train_df[\"SalePrice\"].describe())\n",
    "print(f\"歪度: {round(train_df['SalePrice'].skew(),4)}\" )\n",
    "print(f\"尖度: {round(train_df['SalePrice'].kurt(),4)}\" )"
   ]
  },
  {
   "cell_type": "code",
   "execution_count": 11,
   "id": "53d58687",
   "metadata": {},
   "outputs": [],
   "source": [
    "train_df = train_df[(train_df['LotArea']<20000) & (train_df['SalePrice']<400000)& (train_df['YearBuilt']>1920)]"
   ]
  },
  {
   "cell_type": "code",
   "execution_count": 12,
   "id": "23a18417",
   "metadata": {},
   "outputs": [
    {
     "name": "stderr",
     "output_type": "stream",
     "text": [
      "C:\\Users\\sibuya yuuki\\miniconda3\\lib\\site-packages\\seaborn\\distributions.py:2619: FutureWarning: `distplot` is a deprecated function and will be removed in a future version. Please adapt your code to use either `displot` (a figure-level function with similar flexibility) or `histplot` (an axes-level function for histograms).\n",
      "  warnings.warn(msg, FutureWarning)\n"
     ]
    },
    {
     "name": "stdout",
     "output_type": "stream",
     "text": [
      "歪度: -0.0987\n",
      "尖度: 0.3176\n"
     ]
    },
    {
     "data": {
      "image/png": "[encoded data removed]",
      "text/plain": [
       "<Figure size 432x288 with 1 Axes>"
      ]
     },
     "metadata": {
      "needs_background": "light"
     },
     "output_type": "display_data"
    }
   ],
   "source": [
    "# SalePriceLogに対数変換した値を入れる。説明の都合上新たなカラムを作るが、基本的にそのまま代入して良い。\n",
    "# np.log()は底がeの対数変換を行う。\n",
    "train_df['SalePriceLog'] = np.log(train_df['SalePrice'])\n",
    "# 対数変換後のヒストグラム、歪度、尖度\n",
    "sns.distplot(train_df['SalePriceLog'])\n",
    "print(f\"歪度: {round(train_df['SalePriceLog'].skew(),4)}\" )\n",
    "print(f\"尖度: {round(train_df['SalePriceLog'].kurt(),4)}\" )"
   ]
  },
  {
   "cell_type": "code",
   "execution_count": 13,
   "id": "5f7140c4",
   "metadata": {},
   "outputs": [],
   "source": [
    "# 学習データ、説明変数\n",
    "train_X = train_df.drop(columns = ['SalePrice','SalePriceLog'])\n",
    "# 学習データ、目的変数\n",
    "train_y = train_df['SalePriceLog']\n",
    "\n",
    "# 予測データ、目的変数\n",
    "test_X = test_df"
   ]
  },
  {
   "cell_type": "code",
   "execution_count": 14,
   "id": "8d039fb8",
   "metadata": {},
   "outputs": [
    {
     "name": "stdout",
     "output_type": "stream",
     "text": [
      "alpha : 0.001\n",
      "test score is : 0.1071\n"
     ]
    }
   ],
   "source": [
    "def lasso_tuning(train_x,train_y):\n",
    "    # alphaパラメータのリスト\n",
    "    param_list = [0.001, 0.01, 0.1, 1.0, 10.0,100.0,1000.0] \n",
    "\n",
    "    for cnt,alpha in enumerate(param_list):\n",
    "        # パラメータを設定したラッソ回帰モデル\n",
    "        lasso = Lasso(alpha=alpha) \n",
    "        # パイプライン生成\n",
    "        pipeline = make_pipeline(StandardScaler(), lasso)\n",
    "\n",
    "        # 学習データ内でホールドアウト検証のために分割 テストデータの割合は0.3 seed値を0に固定\n",
    "        X_train, X_test, y_train, y_test = train_test_split(train_x, train_y, test_size=0.3, random_state=0)\n",
    "\n",
    "        # 学習\n",
    "        pipeline.fit(X_train,y_train)\n",
    "\n",
    "        # RMSE(平均誤差)を計算\n",
    "        train_rmse = np.sqrt(mean_squared_error(y_train, pipeline.predict(X_train)))\n",
    "        test_rmse = np.sqrt(mean_squared_error(y_test, pipeline.predict(X_test)))\n",
    "        # ベストパラメータを更新\n",
    "        if cnt == 0:\n",
    "            best_score = test_rmse\n",
    "            best_param = alpha\n",
    "        elif best_score > test_rmse:\n",
    "            best_score = test_rmse\n",
    "            best_param = alpha\n",
    "\n",
    "    # ベストパラメータのalphaと、そのときのMSEを出力\n",
    "    print('alpha : ' + str(best_param))\n",
    "    print('test score is : ' +str(round(best_score,4)))\n",
    "\n",
    "    # ベストパラメータを返却\n",
    "    return best_param\n",
    "\n",
    "# best_alphaにベストパラメータのalphaが渡される。\n",
    "best_alpha = lasso_tuning(train_X,train_y)"
   ]
  },
  {
   "cell_type": "code",
   "execution_count": 15,
   "id": "192188bf",
   "metadata": {},
   "outputs": [
    {
     "data": {
      "text/plain": [
       "Pipeline(steps=[('standardscaler', StandardScaler()),\n",
       "                ('lasso', Lasso(alpha=0.001))])"
      ]
     },
     "execution_count": 15,
     "metadata": {},
     "output_type": "execute_result"
    }
   ],
   "source": [
    "# ラッソ回帰モデルにベストパラメータを設定\n",
    "lasso = Lasso(alpha = best_alpha)\n",
    "# パイプラインの作成\n",
    "pipeline = make_pipeline(StandardScaler(), lasso)\n",
    "# 学習\n",
    "pipeline.fit(train_X,train_y)"
   ]
  },
  {
   "cell_type": "code",
   "execution_count": 16,
   "id": "fba32713",
   "metadata": {},
   "outputs": [],
   "source": [
    "# 結果を予測\n",
    "pred = pipeline.predict(test_X)"
   ]
  },
  {
   "cell_type": "code",
   "execution_count": 17,
   "id": "4eaaea66",
   "metadata": {},
   "outputs": [
    {
     "name": "stderr",
     "output_type": "stream",
     "text": [
      "C:\\Users\\sibuya yuuki\\miniconda3\\lib\\site-packages\\seaborn\\distributions.py:2619: FutureWarning: `distplot` is a deprecated function and will be removed in a future version. Please adapt your code to use either `displot` (a figure-level function with similar flexibility) or `histplot` (an axes-level function for histograms).\n",
      "  warnings.warn(msg, FutureWarning)\n"
     ]
    },
    {
     "name": "stdout",
     "output_type": "stream",
     "text": [
      "歪度: 0.2505\n",
      "尖度: 1.1631\n"
     ]
    },
    {
     "data": {
      "image/png": "[encoded data removed]",
      "text/plain": [
       "<Figure size 432x288 with 1 Axes>"
      ]
     },
     "metadata": {
      "needs_background": "light"
     },
     "output_type": "display_data"
    }
   ],
   "source": [
    "# 予測結果のプロット\n",
    "sns.distplot(pred)\n",
    "# 歪度と尖度\n",
    "print(f\"歪度: {round(pd.Series(pred).skew(),4)}\" )\n",
    "print(f\"尖度: {round(pd.Series(pred).kurt(),4)}\" )"
   ]
  },
  {
   "cell_type": "code",
   "execution_count": 18,
   "id": "5df1c1ae",
   "metadata": {},
   "outputs": [
    {
     "name": "stderr",
     "output_type": "stream",
     "text": [
      "C:\\Users\\sibuya yuuki\\miniconda3\\lib\\site-packages\\seaborn\\distributions.py:2619: FutureWarning: `distplot` is a deprecated function and will be removed in a future version. Please adapt your code to use either `displot` (a figure-level function with similar flexibility) or `histplot` (an axes-level function for histograms).\n",
      "  warnings.warn(msg, FutureWarning)\n"
     ]
    },
    {
     "name": "stdout",
     "output_type": "stream",
     "text": [
      "歪度: 4.5015\n",
      "尖度: 58.9749\n"
     ]
    },
    {
     "data": {
      "image/png": "[encoded data removed]",
      "text/plain": [
       "<Figure size 432x288 with 1 Axes>"
      ]
     },
     "metadata": {
      "needs_background": "light"
     },
     "output_type": "display_data"
    }
   ],
   "source": [
    "# 指数変換\n",
    "pred_exp = np.exp(pred)\n",
    "# 指数変換した予測結果をプロット\n",
    "sns.distplot(pred_exp)\n",
    "# 歪度と尖度\n",
    "print(f\"歪度: {round(pd.Series(pred_exp).skew(),4)}\" )\n",
    "print(f\"尖度: {round(pd.Series(pred_exp).kurt(),4)}\" )"
   ]
  },
  {
   "cell_type": "code",
   "execution_count": 19,
   "id": "ff946adc",
   "metadata": {},
   "outputs": [
    {
     "name": "stderr",
     "output_type": "stream",
     "text": [
      "C:\\Users\\sibuya yuuki\\miniconda3\\lib\\site-packages\\seaborn\\distributions.py:2619: FutureWarning: `distplot` is a deprecated function and will be removed in a future version. Please adapt your code to use either `displot` (a figure-level function with similar flexibility) or `histplot` (an axes-level function for histograms).\n",
      "  warnings.warn(msg, FutureWarning)\n"
     ]
    },
    {
     "name": "stdout",
     "output_type": "stream",
     "text": [
      "歪度: 1.0246\n",
      "尖度: 0.953\n"
     ]
    },
    {
     "data": {
      "image/png": "[encoded data removed]",
      "text/plain": [
       "<Figure size 432x288 with 1 Axes>"
      ]
     },
     "metadata": {
      "needs_background": "light"
     },
     "output_type": "display_data"
    }
   ],
   "source": [
    "# 400,000より高い物件は除去\n",
    "pred_exp_ex_outliars = pred_exp[pred_exp<400000]\n",
    "# 指数変換した予測結果をプロット\n",
    "sns.distplot(pred_exp_ex_outliars)\n",
    "# 歪度と尖度\n",
    "print(f\"歪度: {round(pd.Series(pred_exp_ex_outliars).skew(),4)}\" )\n",
    "print(f\"尖度: {round(pd.Series(pred_exp_ex_outliars).kurt(),4)}\" )"
   ]
  },
  {
   "cell_type": "code",
   "execution_count": 20,
   "id": "3ae2bb28",
   "metadata": {},
   "outputs": [
    {
     "name": "stdout",
     "output_type": "stream",
     "text": [
      "歪度: 0.9457\n",
      "尖度: 0.7462\n"
     ]
    },
    {
     "name": "stderr",
     "output_type": "stream",
     "text": [
      "C:\\Users\\sibuya yuuki\\miniconda3\\lib\\site-packages\\seaborn\\distributions.py:2619: FutureWarning: `distplot` is a deprecated function and will be removed in a future version. Please adapt your code to use either `displot` (a figure-level function with similar flexibility) or `histplot` (an axes-level function for histograms).\n",
      "  warnings.warn(msg, FutureWarning)\n"
     ]
    },
    {
     "data": {
      "image/png": "[encoded data removed]",
      "text/plain": [
       "<Figure size 432x288 with 1 Axes>"
      ]
     },
     "metadata": {
      "needs_background": "light"
     },
     "output_type": "display_data"
    }
   ],
   "source": [
    "# 学習データの住宅価格をプロット(外れ値除去済み)\n",
    "sns.distplot(train_df['SalePrice'])\n",
    "# 歪度と尖度\n",
    "print(f\"歪度: {round(pd.Series(train_df['SalePrice']).skew(),4)}\" )\n",
    "print(f\"尖度: {round(pd.Series(train_df['SalePrice']).kurt(),4)}\" )"
   ]
  },
  {
   "cell_type": "code",
   "execution_count": null,
   "id": "d674dbbc",
   "metadata": {},
   "outputs": [],
   "source": []
  },
  {
   "cell_type": "code",
   "execution_count": null,
   "id": "131701d6",
   "metadata": {},
   "outputs": [],
   "source": [
    "# sample_submission.csvの読み込み\n",
    "submission_df = pd.read_csv('sample_submission.csv')\n",
    "# sample_submission.csvの形式を確認するために先頭五行を見てみる。\n",
    "submission_df.head()\n",
    "# 指数変換した値を代入\n",
    "submission_df['SalePrice'] = pred_exp\n",
    "# submission.csvを出力\n",
    "submission_df.to_csv('submission.csv',index=False)"
   ]
  },
  {
   "cell_type": "code",
   "execution_count": null,
   "id": "60fefa14",
   "metadata": {},
   "outputs": [],
   "source": []
  },
  {
   "cell_type": "code",
   "execution_count": null,
   "id": "46be7fc8",
   "metadata": {},
   "outputs": [],
   "source": []
  },
  {
   "cell_type": "code",
   "execution_count": null,
   "id": "523dd324",
   "metadata": {},
   "outputs": [],
   "source": []
  },
  {
   "cell_type": "code",
   "execution_count": null,
   "id": "0cec409a",
   "metadata": {},
   "outputs": [],
   "source": []
  },
  {
   "cell_type": "code",
   "execution_count": null,
   "id": "f5359e96",
   "metadata": {},
   "outputs": [],
   "source": []
  },
  {
   "cell_type": "code",
   "execution_count": null,
   "id": "9a818e0b",
   "metadata": {},
   "outputs": [],
   "source": []
  },
  {
   "cell_type": "code",
   "execution_count": null,
   "id": "8455a5e4",
   "metadata": {},
   "outputs": [],
   "source": []
  }
 ],
 "metadata": {
  "kernelspec": {
   "display_name": "Python 3 (ipykernel)",
   "language": "python",
   "name": "python3"
  },
  "language_info": {
   "codemirror_mode": {
    "name": "ipython",
    "version": 3
   },
   "file_extension": ".py",
   "mimetype": "text/x-python",
   "name": "python",
   "nbconvert_exporter": "python",
   "pygments_lexer": "ipython3",
   "version": "3.9.12"
  }
 },
 "nbformat": 4,
 "nbformat_minor": 5
}
