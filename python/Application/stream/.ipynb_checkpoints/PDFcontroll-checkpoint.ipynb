{
 "cells": [
  {
   "cell_type": "markdown",
   "id": "420f9cae",
   "metadata": {},
   "source": [
    "# Streamlit で PDF の Webアプリを作る"
   ]
  },
  {
   "cell_type": "code",
   "execution_count": null,
   "id": "4500edac",
   "metadata": {},
   "outputs": [],
   "source": [
    "import os\n",
    "import PyPDF2\n",
    "import glob\n",
    "import base64\n",
    "import streamlit as st\n",
    "import shutil"
   ]
  },
  {
   "cell_type": "code",
   "execution_count": null,
   "id": "2ee04950",
   "metadata": {},
   "outputs": [],
   "source": [
    "if __name__ == \"__main__\":\n",
    "    filename = './data/sample.pdf'\n",
    "    splitpath = './split_out/'\n",
    "    os.makedirs(splitpath, exist_ok=True)\n",
    "    split(filename, splitpath)\n",
    "    mergepath = './merge_out/'\n",
    "    os.makedirs(splitpath, exist_ok=True)\n",
    "    merge(splitpath, mergepath)"
   ]
  },
  {
   "cell_type": "code",
   "execution_count": null,
   "id": "1fd17ae4",
   "metadata": {},
   "outputs": [],
   "source": [
    "def split(filename, outpath, selected_item, zipname):\n",
    "    reader = PyPDF2.PdfFileReader(filename)\n",
    "    page_n = reader.getNumPages()\n",
    "    for page in range(page_n):\n",
    "        split_page = PyPDF2.PdfFileWriter()\n",
    "        split_page.addPage(reader.getPage(page))\n",
    "        savepath = outpath + str(page) + '.pdf'\n",
    "        with open(savepath, 'wb') as f:\n",
    "            split_page.write(f)\n",
    "        if selected_item == 'pdf':\n",
    "            with open(savepath, 'rb') as f:\n",
    "                b64 = base64.b64encode(f.read()).decode()\n",
    "            href = f'<a href=\"data:application/octet-stream;base64,{b64}\" download=\"str(page) + .pdf\">download:{page}.pdf</a>'\n",
    "            st.markdown(href, unsafe_allow_html=True)\n",
    "    if selected_item == 'zip':\n",
    "        shutil.make_archive(zipname, 'zip', outpath)\n",
    "        with open('tmp_zip'+'.zip', 'rb') as f:\n",
    "            b64 = base64.b64encode(f.read()).decode()\n",
    "            href = f'<a href=\"data:application/octet-stream;base64,{b64}\" download=\"pdf-controller.zip\">download:zip</a>'\n",
    "            st.markdown(href, unsafe_allow_html=True)"
   ]
  },
  {
   "cell_type": "code",
   "execution_count": null,
   "id": "9a122ff1",
   "metadata": {},
   "outputs": [],
   "source": [
    "def merge(pdfdir, outdir):\n",
    "    merger = PyPDF2.PdfFileMerger()\n",
    "    for filepath in glob.glob(pdfdir + '*.pdf'):\n",
    "        merger.append(filepath)\n",
    "    merger.write(outdir + 'merge.pdf')\n",
    "    merger.close()"
   ]
  },
  {
   "cell_type": "markdown",
   "id": "1682d0da",
   "metadata": {},
   "source": [
    "# streamlt なし ver"
   ]
  },
  {
   "cell_type": "code",
   "execution_count": null,
   "id": "fc02b080",
   "metadata": {},
   "outputs": [],
   "source": [
    "import os\n",
    "import PyPDF2\n",
    "import glob\n",
    "\n",
    "def merge(pdfdir, outdir):\n",
    "    merger = PyPDF2.PdfFileMerger()\n",
    "    for filepath in glob.glob(pdfdir + '*.pdf'):\n",
    "        merger.append(filepath)\n",
    "    merger.write(outdir + 'merge.pdf')\n",
    "    merger.close()\n",
    "    \n",
    "def split(filename, outpath, selected_item, zipname):\n",
    "    reader = PyPDF2.PdfFileReader(filename)\n",
    "    page_n = reader.getNumPages()\n",
    "    for page in range(page_n):\n",
    "        split_page = PyPDF2.PdfFileWriter()\n",
    "        split_page.addPage(reader.getPage(page))\n",
    "        savepath = outpath + str(page) + '.pdf'\n",
    "        with open(savepath, 'wb') as f:\n",
    "            split_page.write(f)\n",
    "            \n",
    "if __name__ == \"__main__\":\n",
    "    filename = './data/sample.pdf'\n",
    "    splitpath = './split_out/'\n",
    "    os.makedirs(splitpath, exist_ok=True)\n",
    "    split(filename, splitpath)\n",
    "    mergepath = './merge_out/'\n",
    "    os.makedirs(splitpath, exist_ok=True)\n",
    "    merge(splitpath, mergepath)"
   ]
  },
  {
   "cell_type": "markdown",
   "id": "d8b43e93",
   "metadata": {},
   "source": [
    "# 書籍"
   ]
  },
  {
   "cell_type": "code",
   "execution_count": null,
   "id": "f71ada80",
   "metadata": {},
   "outputs": [],
   "source": [
    "# 複数のファイルを一つにまとめる\n",
    "from PyPDF2 import PdfFileMerger\n",
    "import os\n",
    "\n",
    "mgr = PdfFileMerger()\n",
    "filelist = os.listdir(\"pdfs\")\n",
    "filelist = [f for f in filelist if '.pdf' in f]\n",
    "print(filelist)\n",
    "\n",
    "for filename in filelist:\n",
    "    with open(os.path.join(\"pdfs\", filename), 'rb') as input:\n",
    "        mgr.append(input)\n",
    "        \n",
    "output = open(os.path.join(\"pdfs\", \"pdf_all.pdf\"), \"wb\")\n",
    "mgr.write(output)\n",
    "output.close()"
   ]
  },
  {
   "cell_type": "code",
   "execution_count": null,
   "id": "de18b07d",
   "metadata": {},
   "outputs": [],
   "source": [
    "# 1ページごとに分割する\n",
    "from PyPDF2 import PdfFileReader\n",
    "from PyPDF2 import PdfFileWriter\n",
    "\n",
    "fp = open(\"pdf_all.pdf\", 'rb')\n",
    "input = PdfFileReader(fp)\n",
    "\n",
    "pgnum = input.getNumPages()\n",
    "\n",
    "for i in range(pgnum):\n",
    "    output = PdfFileWriter()\n",
    "    output.addPage(input.getPage(i))\n",
    "    outputfile = open(\"pdf_all_\"+str(i)+\".pdf\", 'wb')\n",
    "    output.write(outputfile)\n",
    "    outputfile.close()\n",
    "\n",
    "fp.close()"
   ]
  },
  {
   "cell_type": "markdown",
   "id": "daf3d88d",
   "metadata": {},
   "source": [
    "# Streamlit で自作"
   ]
  },
  {
   "cell_type": "code",
   "execution_count": null,
   "id": "e8ebd2ab",
   "metadata": {},
   "outputs": [],
   "source": [
    "#仕様\n",
    "# 一回ばらして、選択したものだけ結合できる\n",
    "# 一枚ずつほしい時は、zipにする\n",
    "# Folderを渡されたら、Folder内のpdfを結合する\n",
    "#"
   ]
  },
  {
   "cell_type": "code",
   "execution_count": null,
   "id": "b552843b",
   "metadata": {},
   "outputs": [],
   "source": []
  },
  {
   "cell_type": "code",
   "execution_count": null,
   "id": "a9ee2404",
   "metadata": {},
   "outputs": [],
   "source": []
  },
  {
   "cell_type": "code",
   "execution_count": null,
   "id": "f39c21b8",
   "metadata": {},
   "outputs": [],
   "source": []
  },
  {
   "cell_type": "code",
   "execution_count": null,
   "id": "ce4b139c",
   "metadata": {},
   "outputs": [],
   "source": []
  }
 ],
 "metadata": {
  "kernelspec": {
   "display_name": "Python 3 (ipykernel)",
   "language": "python",
   "name": "python3"
  },
  "language_info": {
   "codemirror_mode": {
    "name": "ipython",
    "version": 3
   },
   "file_extension": ".py",
   "mimetype": "text/x-python",
   "name": "python",
   "nbconvert_exporter": "python",
   "pygments_lexer": "ipython3",
   "version": "3.9.16"
  }
 },
 "nbformat": 4,
 "nbformat_minor": 5
}
