{
 "cells": [
  {
   "cell_type": "markdown",
   "id": "32756410",
   "metadata": {},
   "source": [
    "# 機械学習\n",
    "\n",
    "## 教師あり学習（データの特徴から、目的変数を予測）\n",
    "\n",
    "### 分類（ラベルが離散的）\n",
    "#### 電子メールの自動スパム検出、テキストの単語出現頻度\n",
    "#### ガウシアンナイーブベイズ、サポートベクターマシン、ランダムフォレスト分類などのアルゴリズム\n",
    "\n",
    "### 回帰（ラベルが連続量）\n",
    "#### 望遠鏡で観測された天体、銀河の距離測定\n",
    "#### 線形回帰、サポートベクターマシン、ランダムフォレスト回帰などのアルゴリズム\n",
    "\n",
    "## 教師なし学習（データの特徴をモデル化し、目的変数がない）\n",
    "\n",
    "### クラスタリング（データをグループ別に区別）\n",
    "#### 画像のカラー圧縮\n",
    "#### k平均法、ガウス混合モデル、スペクトルクラスタリングなどのアルゴリズム\n",
    "\n",
    "### 次元削減（データをより簡潔な表現にする）\n",
    "#### 主成分分析、多様体学習などのアルゴリズム\n",
    "\n",
    "## 半教師あり学習\n",
    "## 強化学習"
   ]
  },
  {
   "cell_type": "markdown",
   "id": "572b0074",
   "metadata": {},
   "source": [
    "# 予測モデル(kaggleでの代表格)\n",
    "## 重回帰分析\n",
    "### Ridge回帰\n",
    "### Lasso回帰\n",
    "### ENet\n",
    "## 勾配ブースティング\n",
    "### XGBoost(めっちゃ時間かかる)\n",
    "### LightGBM\n",
    "### CatBoost\n",
    "## RandomForest\n",
    "\n",
    "# アンサンブル学習\n",
    "## ブースティング\n",
    "### 繰り返し学習で未学習を減らす、バイアス（誤差平均）を減らす\n",
    "## バギング\n",
    "### ランダム抽出で平均を取る、バリアンス（分散）を減らす\n",
    "\n",
    "# 指標\n",
    "## MAE(平均絶対誤差)\n",
    "## MSE, RMSE(平均二乗誤差)\n",
    "## RMSLE(対数平均二乗誤差)\n",
    "\n",
    "# 分割・検証\n",
    "## ホールドアウト(train_test_split())\n",
    "## クロスバリデーション(KFold)\n",
    "## グリッドサーチ(GridSearchCV)\n",
    "\n",
    "# 標準化 0~1にまとめる\n",
    "# 正規化 -1~1にまとめる、平均０、分散１\n",
    "# 多重共線性\n",
    "## 説明変数同士に相関があると、予測が引っ張られてしまい\n",
    "## 目的変数の予測精度が下がる。よって、説明変数同士は独立であるべき"
   ]
  },
  {
   "cell_type": "code",
   "execution_count": null,
   "id": "1eccf359",
   "metadata": {},
   "outputs": [],
   "source": [
    "# モデルの作り方\n",
    "\n",
    "# モデルのインポート\n",
    "# model = LinearRegression()\n",
    "# model.fit(x, y)\n",
    "# y_pred = model.predict(X)"
   ]
  },
  {
   "cell_type": "code",
   "execution_count": null,
   "id": "0534e4d0",
   "metadata": {},
   "outputs": [],
   "source": [
    "# 回帰\n",
    "from sklearn.linear_model import LinearRegression, Ridge, Lasso  #線形回帰\n",
    "from sklearn.preprocessing import PolynomialFeatures # 多項式基底関数\n",
    "#(GaussianFeatures() : カスタム器を自分で作る必要あり p397)\n",
    "from sklearn.svm import SVC # グラフ化は自作関数 p410 PCAとパイプラインを組む\n",
    "from sklearn.ensemble import RandomForestRegression # ランダムフォレスト"
   ]
  },
  {
   "cell_type": "code",
   "execution_count": null,
   "id": "b15c5004",
   "metadata": {},
   "outputs": [],
   "source": [
    "# 分類\n",
    "from sklearn.naive_bayes import GaussianNB  #ガウシアンナイーブベイズ\n",
    "from sklearn.naive_bayes import MultinomialNB # 多項分布ナイーブベイズ, make_pipeline(TfidfVectorizer(), MultinomialNB())\n",
    "from sklearn.svm import SVC # グラフ化は自作関数 p410 \n",
    "from sklearn.tree import DecisionTreeClassifer # bag = BaggingClassifier(DecisionTreeClassifier(), ...)\n",
    "from sklearn.ensemble import RandomForestClassifier # ランダムフォレスト"
   ]
  },
  {
   "cell_type": "code",
   "execution_count": null,
   "id": "35137a0e",
   "metadata": {},
   "outputs": [],
   "source": [
    "# 次元削減\n",
    "from sklearn.decomposition import PCA   #主成分分析\n",
    "from sklearn.manifold import Isomap # 多様体学習 PCAに劣る"
   ]
  },
  {
   "cell_type": "code",
   "execution_count": null,
   "id": "e11902f5",
   "metadata": {},
   "outputs": [],
   "source": [
    "# クラスタリング\n",
    "from sklearn.mixture import GaussianMixture # ガウス混合モデル　k平均法の進化\n",
    "from sklearn.cluster import KMeans #　k平均法\n",
    "# ほかにもDBSCAN, 平均値シフト、親和性伝播"
   ]
  },
  {
   "cell_type": "code",
   "execution_count": null,
   "id": "60e5797f",
   "metadata": {},
   "outputs": [],
   "source": [
    "# カーネル密度推定\n",
    "from sklearn.neighbors import KernelDensity"
   ]
  },
  {
   "cell_type": "code",
   "execution_count": null,
   "id": "2b54ab36",
   "metadata": {},
   "outputs": [],
   "source": [
    "# 役立つもの\n",
    "from sklearn.model_selection import train_test_split                 # train, testデータを分ける\n",
    "Xtain, Xtest, Ytran, Ytest = train_test_split(X, Y, random_state=1)\n",
    "\n",
    "from sklearn.metrics import accuracy_score  # 精度\n",
    "accuracy_score(test, model)\n",
    "\n",
    "from sklearn.metrics import confusion_matrix #混同行列 --> sns.heatmap(mat)\n",
    "mat = confusion_matrix(test, model)\n",
    "\n",
    "from sklearn.model_selection import cross_val_score  # 交差検証１\n",
    "cross_val_score(model, x, y, cv=5)\n",
    "\n",
    "from sklearn.model_selection import LeaveOneOut  # 交差検証２\n",
    "scores = cross_val_score(model, x, y, cv=LeaveOneOut())\n",
    "scores.mean()\n",
    "\n",
    "from sklearn.model_selection import learning_curve # 学習曲線\n",
    "\n",
    "from sklearn.feature_extraction import DictVectorizer  # カテゴリ特徴量\n",
    "from sklearn.preprocessing import OneHotEncoder\n",
    "from sklearn.feature_extraction import FeatureHasher"
   ]
  },
  {
   "cell_type": "code",
   "execution_count": null,
   "id": "e835de0c",
   "metadata": {},
   "outputs": [],
   "source": [
    "# 多項式関数\n",
    "from sklearn.preprocessing import PolynomialFeatures\n",
    "from sklearn.linear_model import LinearRegression\n",
    "from sklearn.pipeline import make_pipeline\n",
    "\n",
    "def PolynomialRegression(degree=2, **kwargs):\n",
    "    return make_pipeline(PolynomialFeatures(degree), LinearRegression(**kwargs))"
   ]
  },
  {
   "cell_type": "code",
   "execution_count": null,
   "id": "795e3941",
   "metadata": {},
   "outputs": [],
   "source": [
    "# GridSearch\n",
    "from sklearn.model_selection import GridSearchCV \n",
    "\n",
    "param_grid = {'parameter1' : [0, 1, 2],\n",
    "              'parameter2' : [True, False],\n",
    "              'parameter3' : np.arange(21)}\n",
    "\n",
    "grid = GridSearch(model, param_grid, cv=7)\n",
    "\n",
    "grid.fit(X, y)\n",
    "\n",
    "print(grid.best_params_)\n",
    "\n",
    "model = grid.best_estimator_\n",
    "\n",
    "y_pred = model.fit(X, y).predict(X_test)\n",
    "#ここからはアドリブでプロットする。"
   ]
  },
  {
   "cell_type": "code",
   "execution_count": null,
   "id": "2f70f362",
   "metadata": {},
   "outputs": [],
   "source": []
  }
 ],
 "metadata": {
  "kernelspec": {
   "display_name": "Python 3 (ipykernel)",
   "language": "python",
   "name": "python3"
  },
  "language_info": {
   "codemirror_mode": {
    "name": "ipython",
    "version": 3
   },
   "file_extension": ".py",
   "mimetype": "text/x-python",
   "name": "python",
   "nbconvert_exporter": "python",
   "pygments_lexer": "ipython3",
   "version": "3.9.5"
  }
 },
 "nbformat": 4,
 "nbformat_minor": 5
}
