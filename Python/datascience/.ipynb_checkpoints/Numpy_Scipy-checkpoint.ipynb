{
 "cells": [
  {
   "cell_type": "code",
   "execution_count": 1,
   "id": "c42daee5",
   "metadata": {},
   "outputs": [],
   "source": [
    "import numpy as np\n",
    "import scipy as sc\n",
    "# https://www.numpy.org\n",
    "# https://www.scipy.org"
   ]
  },
  {
   "cell_type": "code",
   "execution_count": 2,
   "id": "cb9fefb7",
   "metadata": {},
   "outputs": [
    {
     "name": "stdout",
     "output_type": "stream",
     "text": [
      "[1 4 2 5 3]\n",
      "[[2 3 4]\n",
      " [4 5 6]\n",
      " [6 7 8]]\n",
      "[0 0 0 0 0 0 0 0 0 0]\n",
      "[[1. 1. 1.]\n",
      " [1. 1. 1.]]\n",
      "[[1 2 3]\n",
      " [4 5 6]\n",
      " [7 8 9]]\n"
     ]
    }
   ],
   "source": [
    "#配列の構築\n",
    "print(np.array([1, 4, 2, 5, 3]))\n",
    "print(np.array([range(i, i+3) for i in [2, 4, 6]]))\n",
    "#numpyの特殊関数(ほんの一部)\n",
    "print(np.zeros(10, dtype=int))\n",
    "print(np.ones((2, 3), dtype=float))\n",
    "print(np.arange(1, 10).reshape((3, 3)))"
   ]
  },
  {
   "cell_type": "code",
   "execution_count": 5,
   "id": "28211f6a",
   "metadata": {},
   "outputs": [
    {
     "name": "stdout",
     "output_type": "stream",
     "text": [
      "[[8 5 0]\n",
      " [3 5 0]\n",
      " [9 9 2]]\n",
      "[[1 6 3]\n",
      " [7 6 7]\n",
      " [3 2 1]]\n",
      "[[ 9 11  3]\n",
      " [10 11  7]\n",
      " [12 11  3]]\n",
      "[[ 7 -1 -3]\n",
      " [-4 -1 -7]\n",
      " [ 6  7  1]]\n",
      "[[ 8 30  0]\n",
      " [21 30  0]\n",
      " [27 18  2]]\n",
      "[[ 43  78  59]\n",
      " [ 38  48  44]\n",
      " [ 78 112  92]]\n",
      "[[8 3 9]\n",
      " [5 5 9]\n",
      " [0 0 2]]\n",
      "49.99999999999999\n",
      "[[ 0.2  -0.2   0.  ]\n",
      " [-0.12  0.32 -0.  ]\n",
      " [-0.36 -0.54  0.5 ]]\n"
     ]
    }
   ],
   "source": [
    "#行列\n",
    "a = np.random.randint(0, 10, (3, 3))\n",
    "b = np.random.randint(0, 10, (3, 3))\n",
    "print(a)\n",
    "print(b)\n",
    "print(a+b)\n",
    "print(a-b)\n",
    "print(a*b)\n",
    "print(a@b)\n",
    "print(a.T)\n",
    "print(np.linalg.det(a))\n",
    "print(np.linalg.inv(a))"
   ]
  },
  {
   "cell_type": "code",
   "execution_count": 3,
   "id": "f8f050d2",
   "metadata": {},
   "outputs": [
    {
     "name": "stdout",
     "output_type": "stream",
     "text": [
      "[8 5 3 6 1 4]\n",
      "5\n",
      "4\n",
      "[[2 3 3 8]\n",
      " [3 9 2 1]\n",
      " [6 5 5 4]]\n",
      "2\n"
     ]
    }
   ],
   "source": [
    "#インデクス操作\n",
    "#要素のアクセス\n",
    "x1 = np.random.randint(10, size=6)\n",
    "print(x1)\n",
    "print(x1[1])\n",
    "print(x1[-1])\n",
    "\n",
    "x2 = np.random.randint(10, size=(3, 4))\n",
    "print(x2)\n",
    "print(x2[1, 2])"
   ]
  },
  {
   "cell_type": "code",
   "execution_count": 4,
   "id": "827a2389",
   "metadata": {},
   "outputs": [
    {
     "name": "stdout",
     "output_type": "stream",
     "text": [
      "[1 2 5 3 9 6 8 8 7 1]\n",
      "[1 2 5 3 9]\n",
      "[6 8 8 7 1]\n",
      "[2 3 6 8 1]\n",
      "[1 7 8 8 6 9 3 5 2 1]\n",
      "[[8 4 0 9]\n",
      " [3 5 6 5]\n",
      " [9 0 5 2]]\n",
      "[[8 4 0]\n",
      " [3 5 6]]\n",
      "[[8 0]\n",
      " [3 6]\n",
      " [9 5]]\n",
      "[8 3 9]\n",
      "[8 4 0 9]\n"
     ]
    }
   ],
   "source": [
    "#スライス\n",
    "x1 = np.random.randint(10, size=10)\n",
    "print(x1)\n",
    "print(x1[:5])\n",
    "print(x1[5:])\n",
    "print(x1[1::2])\n",
    "print(x1[::-1])\n",
    "\n",
    "x2 = np.random.randint(10, size=(3, 4))\n",
    "print(x2)\n",
    "print(x2[:2, :3])\n",
    "print(x2[:3, ::2])\n",
    "print(x2[:, 0])\n",
    "print(x2[0, :])"
   ]
  },
  {
   "cell_type": "code",
   "execution_count": 5,
   "id": "4008b900",
   "metadata": {},
   "outputs": [
    {
     "name": "stdout",
     "output_type": "stream",
     "text": [
      "[[1 2 3]\n",
      " [4 5 6]\n",
      " [7 8 9]]\n",
      "[[1 2 3]]\n",
      "[[1]\n",
      " [2]\n",
      " [3]]\n"
     ]
    }
   ],
   "source": [
    "#形状変更\n",
    "print(np.arange(1, 10).reshape((3, 3)))\n",
    "\n",
    "x = np.array([1, 2, 3])\n",
    "print(x[np.newaxis, :])\n",
    "print(x[:, np.newaxis])"
   ]
  },
  {
   "cell_type": "code",
   "execution_count": 7,
   "id": "d59621b3",
   "metadata": {},
   "outputs": [
    {
     "name": "stdout",
     "output_type": "stream",
     "text": [
      "[[1 2 3]\n",
      " [4 5 6]]\n",
      "[1 2 3 4 5 6]\n",
      "[[0 1 2 3]\n",
      " [4 5 6 7]]\n",
      "[[ 8  9 10 11]\n",
      " [12 13 14 15]]\n",
      "[[ 0  1]\n",
      " [ 4  5]\n",
      " [ 8  9]\n",
      " [12 13]]\n",
      "[[ 2  3]\n",
      " [ 6  7]\n",
      " [10 11]\n",
      " [14 15]]\n"
     ]
    }
   ],
   "source": [
    "#分割結合\n",
    "x = np.array([1, 2, 3])\n",
    "y = np.array([4, 5, 6])\n",
    "\n",
    "print(np.vstack([x, y]))\n",
    "print(np.hstack([x, y]))\n",
    "\n",
    "z = np.arange(16).reshape((4, 4))\n",
    "\n",
    "upper, lower = np.vsplit(z, [2])\n",
    "print(upper)\n",
    "print(lower)\n",
    "\n",
    "left, right = np.hsplit(z, [2])\n",
    "print(left)\n",
    "print(right)\n"
   ]
  },
  {
   "cell_type": "code",
   "execution_count": 8,
   "id": "abdbd316",
   "metadata": {},
   "outputs": [
    {
     "name": "stdout",
     "output_type": "stream",
     "text": [
      "[[5 8 4]\n",
      " [4 8 7]\n",
      " [9 6 9]]\n"
     ]
    }
   ],
   "source": [
    "#配列の演算、変換\n",
    "x = np.random.randint(1, 10, (3, 3))\n",
    "print(np.add(x, 2))\n",
    "# np.subtract\n",
    "# np.multiply(x, 10, out=y)\n",
    "# np.divide\n",
    "# np.floor_divide\n",
    "# np.power\n",
    "# np.mod\n",
    "# np.abs\n",
    "# np.sin  arcsin\n",
    "# np.cos  arccos\n",
    "# np.tan  arctan\n",
    "# np.exp\n",
    "# np.log"
   ]
  },
  {
   "cell_type": "code",
   "execution_count": null,
   "id": "bb6726c2",
   "metadata": {},
   "outputs": [],
   "source": [
    "#上記の続き\n",
    "x = np.arange(1, 6)\n",
    "\n",
    "print(np.add.reduce(x))\n",
    "print(np.add.accumulate(x))\n",
    "print(np.multiply.outer(x, x))\n"
   ]
  },
  {
   "cell_type": "code",
   "execution_count": 9,
   "id": "fff72754",
   "metadata": {},
   "outputs": [
    {
     "name": "stdout",
     "output_type": "stream",
     "text": [
      "15\n",
      "0\n",
      "120\n",
      "[12 13 14 15]\n",
      "[ 3  7 11 15]\n"
     ]
    }
   ],
   "source": [
    "#配列の集約\n",
    "x = np.arange(16).reshape((4, 4))\n",
    "\n",
    "print(np.max(x))\n",
    "print(np.min(x))\n",
    "print(np.sum(x))\n",
    "\n",
    "print(x.max(axis=0))\n",
    "print(x.max(axis=1))\n",
    "\n",
    "# np.prod 積\n",
    "# np.mean 平均値\n",
    "# np.std 標準偏差\n",
    "# np.var 分散\n",
    "# np.median 中央値\n",
    "# np.percentile パーセンタイル\n",
    "\n",
    "# np.sum(x < 6) 条件付きカウント　& | ~ ^ が使える\n",
    "# x[x < 5] マスキング操作\n",
    "# np.sort, np.argsort, np.partition"
   ]
  },
  {
   "cell_type": "code",
   "execution_count": null,
   "id": "8dba71da",
   "metadata": {},
   "outputs": [],
   "source": [
    "from scipy import special\n",
    "# https://docs.scipy.org/doc/scipy/reference/generated/scipy.special.gamma.html"
   ]
  },
  {
   "cell_type": "code",
   "execution_count": 10,
   "id": "68a2948f",
   "metadata": {},
   "outputs": [],
   "source": [
    "#そのほかの知識\n",
    "# ブロードキャスト\n",
    "# ファンシーインデックス\n",
    "# 構造化配列"
   ]
  }
 ],
 "metadata": {
  "kernelspec": {
   "display_name": "Python 3",
   "language": "python",
   "name": "python3"
  },
  "language_info": {
   "codemirror_mode": {
    "name": "ipython",
    "version": 3
   },
   "file_extension": ".py",
   "mimetype": "text/x-python",
   "name": "python",
   "nbconvert_exporter": "python",
   "pygments_lexer": "ipython3",
   "version": "3.9.5"
  }
 },
 "nbformat": 4,
 "nbformat_minor": 5
}
