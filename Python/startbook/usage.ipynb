{
 "cells": [
  {
   "cell_type": "code",
   "execution_count": null,
   "metadata": {},
   "outputs": [],
   "source": [
    "# datetime\n",
    "import datetime\n",
    "\n",
    "today = datetime.date.today()\n",
    "print(today)\n",
    "\n",
    "print(datetime.datetime.now())\n",
    "\n",
    "birthday = datetime.date(2001, 5, 15)\n",
    "print(birthday.weekday())\n",
    "\n",
    "life = today - birthday\n",
    "print(life.days)"
   ]
  },
  {
   "cell_type": "code",
   "execution_count": null,
   "metadata": {},
   "outputs": [],
   "source": [
    "# sys,  try,  except\n",
    "import sys\n",
    "\n",
    "try:\n",
    "    a = float(sys.argv[1])\n",
    "    b = float(sys.argv[2])\n",
    "    print(a+b)\n",
    "except:\n",
    "    print('Error!!')\n"
   ]
  },
  {
   "cell_type": "code",
   "execution_count": null,
   "metadata": {},
   "outputs": [],
   "source": [
    "# random,  while,  if\n",
    "import random\n",
    "\n",
    "while True:\n",
    "    rand_num0 = random.choice([1, 2, 3, 4, 5, 6])\n",
    "    rand_num1 = random.randint(0, 9)\n",
    "    print(rand_num0, rand_num1)\n",
    "    if rand_num0 < rand_num1:\n",
    "        continue\n",
    "    else:\n",
    "        break\n"
   ]
  },
  {
   "cell_type": "code",
   "execution_count": null,
   "metadata": {},
   "outputs": [],
   "source": [
    "# turtle\n",
    "import turtle\n",
    "import random\n",
    "\n",
    "kame = turtle.Turtle()\n",
    "kame.shape('turtle')\n",
    "kame.shapesize(2, 2, 3)\n",
    "\n",
    "kame.home()\n",
    "kame.clear()\n",
    "kame.penup()\n",
    "kame.forward(200)\n",
    "kame.left(90)\n",
    "kame.pendown()\n",
    "kame.circle(200)\n",
    "kame.penup()\n",
    "kame.home()\n",
    "kame.pendown()\n",
    "\n",
    "while kame.distance(0, 0) < 200:\n",
    "    kame.left(random.randint(1, 360))\n",
    "    kame.forward(15)"
   ]
  },
  {
   "cell_type": "code",
   "execution_count": null,
   "metadata": {},
   "outputs": [],
   "source": [
    "# def, class\n",
    "\n",
    "# my_module\n",
    "def func(v):\n",
    "    i = v + 3\n",
    "    return i\n",
    "\n",
    "# mainfile\n",
    "import my_module\n",
    "my_module.func(5)\n",
    "\n",
    "# change my_module\n",
    "def func(v):\n",
    "    i = v * 3\n",
    "    return i\n",
    "\n",
    "# change mainfile\n",
    "import importlib\n",
    "importlib.reload(my_module)\n",
    "my_module(5)\n",
    "\n",
    "# change my_module\n",
    "class Dice:\n",
    "    def __init__(self, val):\n",
    "        self.face_num = val\n",
    "    def shoot(self):\n",
    "        return random.randint(1, self.face_num)\n",
    "\n",
    "# change mainfile\n",
    "importlib.reload(my_module)\n",
    "sai = my_module.Dice(4)\n",
    "print(sai.shoot())\n",
    "print(sai.face_num)\n"
   ]
  },
  {
   "cell_type": "code",
   "execution_count": null,
   "metadata": {},
   "outputs": [],
   "source": [
    "# usage of DataBase\n",
    "import sqlite3\n",
    "# make DB\n",
    "conn = sqlite3.connect('my_database.db')\n",
    "conn.execute('create table data_table(id integer, random_val real)')\n",
    "# write DB\n",
    "import itertools\n",
    "import random\n",
    "iter_cnt = itertools.count(1)\n",
    "for i in range(500):\n",
    "    num = random.random()\n",
    "    conn.execute('insert into data_table values({}, {})'.format(next(iter_cnt), num))\n",
    "# read DB\n",
    "cur = execute('select * from data_table')\n",
    "# select count(*) from data_table\n",
    "# select * from data_table where id=500\n",
    "# update data_table set id=-99 where id=501\n",
    "# delete from data_table where id=-99\n",
    "for row in cur:\n",
    "    print(row)\n",
    "conn.commit()\n",
    "conn.close()\n"
   ]
  },
  {
   "cell_type": "code",
   "execution_count": null,
   "metadata": {},
   "outputs": [],
   "source": [
    "# list\n",
    "list0 = [0, 1, 2, 3]\n",
    "\n",
    "list0.append(4)    \n",
    "list0.insert(1, 5)\n",
    "list0.pop(1)\n",
    "list0.remove(1)\n",
    "list0.reverse()\n",
    "list0.sort()"
   ]
  },
  {
   "cell_type": "code",
   "execution_count": null,
   "metadata": {},
   "outputs": [],
   "source": [
    "# dictionary, tuple\n",
    "dict = {\n",
    "        1 : 'America',\n",
    "        39 : 'Italia',\n",
    "        86 : 'China'\n",
    "        }\n",
    "dict[81] = 'Japan'\n",
    "print(dict)\n",
    "\n",
    "tuple0 = (1, 2, 3, 4)"
   ]
  },
  {
   "cell_type": "code",
   "execution_count": null,
   "metadata": {},
   "outputs": [],
   "source": [
    "# usage of file\n",
    "test_file = open('test.txt', 'w')\n",
    "test_file.write('Hello!!')\n",
    "test_file.flush()\n",
    "test_file.close()\n",
    "\n",
    "test_file = open('test.txt', 'r')\n",
    "read_line = test_file.readline()\n",
    "test_file.close()\n",
    "print(read_line)"
   ]
  },
  {
   "cell_type": "code",
   "execution_count": null,
   "metadata": {},
   "outputs": [],
   "source": [
    "# for, if\n",
    "list1 = [345, 891, 590, 290, 160, 455]\n",
    "for num in list1:\n",
    "     if 100 < num < 300:\n",
    "         print('small')\n",
    "     elif 300 < num < 500:\n",
    "         print('middle')\n",
    "     else:\n",
    "         print('big')"
   ]
  },
  {
   "cell_type": "markdown",
   "metadata": {},
   "source": [
    "# jupyter notebook\n",
    "## column of makedown\n",
    "### Hello World"
   ]
  }
 ],
 "metadata": {
  "language_info": {
   "name": "python"
  },
  "orig_nbformat": 4
 },
 "nbformat": 4,
 "nbformat_minor": 2
}
