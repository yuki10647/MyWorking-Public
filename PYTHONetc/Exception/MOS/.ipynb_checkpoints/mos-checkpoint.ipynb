{
 "cells": [
  {
   "cell_type": "markdown",
   "id": "98f7ffeb",
   "metadata": {},
   "source": [
    "# Word"
   ]
  },
  {
   "cell_type": "code",
   "execution_count": 1,
   "id": "af295c32",
   "metadata": {},
   "outputs": [],
   "source": [
    "# doc1 ~ doc5 まで基礎\n",
    "from docx import Document"
   ]
  },
  {
   "cell_type": "code",
   "execution_count": 3,
   "id": "5730dfff",
   "metadata": {},
   "outputs": [],
   "source": [
    "doc1 = Document()\n",
    "\n",
    "doc1.add_paragraph('Pythonで文書作成', style='Title')　 # Subtitle, Heading 1, Heading 2, Quote\n",
    "doc1.add_paragraph('PythonでOfficeの文書を操作できます。初めにWord文書を作成します。')\n",
    "doc1.add_paragraph('文書作成の基本', style='Heading 1')\n",
    "p1 = doc1.add_paragraph('文書内で')\n",
    "p1.add_run('太字').bold = True\n",
    "p1.add_run('や、')\n",
    "p1.add_run('斜字').italic = True\n",
    "p1.add_run('などを設定できます。')\n",
    "\n",
    "doc1.save('doc1.docx')"
   ]
  },
  {
   "cell_type": "code",
   "execution_count": 5,
   "id": "9f3cc5a1",
   "metadata": {},
   "outputs": [],
   "source": [
    "doc2 = Document('doc1.docx')\n",
    "\n",
    "scheme = ['文書作成は、以下の通りです',\n",
    "          '文書全体をDocumentオブジェクトとして作成',\n",
    "          'DocumentオブジェクトにParagraphオブジェクトを追加',\n",
    "          'ParagraphオブジェクトにRunオブジェクトを追加',\n",
    "          'Documentオブジェクトをファイルとして保存']\n",
    "doc2.add_paragraph(scheme[0])\n",
    "for i in range(1, len(scheme)):\n",
    "    doc2.add_paragraph(scheme[i], style='List Number')\n",
    "    \n",
    "doc2.save('doc2.docx')"
   ]
  },
  {
   "cell_type": "code",
   "execution_count": 6,
   "id": "e7dbd20f",
   "metadata": {},
   "outputs": [],
   "source": [
    "from docx.shared import Mm"
   ]
  },
  {
   "cell_type": "code",
   "execution_count": 7,
   "id": "7fa3cb52",
   "metadata": {},
   "outputs": [],
   "source": [
    "doc3 = Document('doc2.docx')\n",
    "\n",
    "doc3.add_picture('kirby.png', width=Mm(50))\n",
    "\n",
    "doc3.save('doc3.docx')"
   ]
  },
  {
   "cell_type": "code",
   "execution_count": 8,
   "id": "b481e89a",
   "metadata": {},
   "outputs": [],
   "source": [
    "doc4 = Document('doc3.docx')\n",
    "\n",
    "p1 = doc4.add_paragraph(style='Subtitle')\n",
    "p1.add_run().add_picture('kirby.png', width=Mm(8))\n",
    "p1.add_run('サブタイトル作成')\n",
    "\n",
    "doc4.save('doc4.docx')"
   ]
  },
  {
   "cell_type": "code",
   "execution_count": 10,
   "id": "9a7bd063",
   "metadata": {},
   "outputs": [],
   "source": [
    "doc5 = Document('doc4.docx')\n",
    "\n",
    "col_names = ['関数名', '呼出し元', '機能']\n",
    "data = [['add_paragraph', 'Document', '文書に段落を追加。直接文章を追加することもできる'],\n",
    "        ['add_run', 'Paragraph', '段落にテキストを追加。文字ごとにスタイルを設定したいときに使う'],\n",
    "        ['add_picture', 'Document\\Run', '画像を追加']]\n",
    "tbl = doc5.add_table(\n",
    "    rows = 1,\n",
    "    cols = len(col_names),\n",
    "    style = 'Colorful Grid Accent 5'\n",
    ")\n",
    "for i, cell in enumerate(tbl.rows[0].cells):\n",
    "    cell.text = col_names[i]\n",
    "    \n",
    "for d in data:\n",
    "    cells = tbl.add_row().cells\n",
    "    for i, cell in enumerate(cells):\n",
    "        cell.text = d[i]\n",
    "        \n",
    "doc5.save('doc5.docx')"
   ]
  },
  {
   "cell_type": "code",
   "execution_count": 12,
   "id": "c75797f2",
   "metadata": {},
   "outputs": [],
   "source": [
    "# ビジネス文書を作ってみる\n",
    "from docx import Document\n",
    "from docx.enum.text import WD_ALIGN_PARAGRAPH\n",
    "from docx.shared import Pt\n",
    "import datetime as dt\n",
    "\n",
    "doc7 = Document()\n",
    "\n",
    "p_date = doc7.add_paragraph()\n",
    "p_date.paragraph_format.alignment = WD_ALIGN_PARAGRAPH.RIGHT\n",
    "p_date.text = dt.date.today().strftime('%Y年%#m月%#d日')\n",
    "\n",
    "p_left = doc7.add_paragraph()\n",
    "p_left.paragraph_format.alignment = WD_ALIGN_PARAGRAPH.LEFT\n",
    "p_left.text = '　　　　様'\n",
    "\n",
    "p_right = doc7.add_paragraph()\n",
    "p_right.paragraph_format.alignment = WD_ALIGN_PARAGRAPH.RIGHT\n",
    "p_right.text = '渋谷　優貴'\n",
    "\n",
    "p_large = doc7.add_paragraph()\n",
    "p_large.paragraph_format.alignment = WD_ALIGN_PARAGRAPH.CENTER\n",
    "run_pl = p_large.add_run()\n",
    "run_pl.font.size = Pt(14)\n",
    "run_pl.text = 'アンケートご回答のお願い'\n",
    "\n",
    "doc7.add_paragraph().text = '日々ご健勝のこととお慶び申し上げます。'\n",
    "\n",
    "doc7.save('business.docx')"
   ]
  },
  {
   "cell_type": "code",
   "execution_count": null,
   "id": "9fa81cb3",
   "metadata": {},
   "outputs": [],
   "source": []
  },
  {
   "cell_type": "markdown",
   "id": "9c131c84",
   "metadata": {},
   "source": [
    "# Excel"
   ]
  },
  {
   "cell_type": "code",
   "execution_count": 1,
   "id": "5444e6b2",
   "metadata": {},
   "outputs": [],
   "source": [
    "import math\n",
    "\n",
    "row_titles = ['元の数', '2乗', '3乗', '2乗根', '3乗根', '逆数', 'log2', 'log3', '常用対数', '自然対数']\n",
    "\n",
    "calcs = [\n",
    "    lambda i: i,\n",
    "    lambda i: i**2,\n",
    "    lambda i: i**3,\n",
    "    lambda i: math.sqrt(i),\n",
    "    lambda i: i**(1./3),\n",
    "    lambda i: 1./i,\n",
    "    lambda i: math.log2(i),\n",
    "    lambda i: math.log(i, 3),\n",
    "    lambda i: math.log10(i),\n",
    "    lambda i: math.log(i),\n",
    "]"
   ]
  },
  {
   "cell_type": "code",
   "execution_count": 2,
   "id": "ed5477e1",
   "metadata": {},
   "outputs": [],
   "source": [
    "from openpyxl import Workbook\n",
    "\n",
    "wb1 = Workbook()\n",
    "ws1 = wb1.active\n",
    "\n",
    "ws1.title = \"数値計算早見表\"\n",
    "for i in range(len(row_titles)):\n",
    "    cell = ws1.cell(row=i+1, column=1) #excel の行列は 1 から\n",
    "    cell.value = row_titles[i]\n",
    "for i in range(10):\n",
    "    for j in range(len(calcs)):\n",
    "        cell = ws1.cell(row=j+1, column=i+2)\n",
    "        cell.value = calcs[j](i + 1)\n",
    "        \n",
    "wb1.save('calc_data1.xlsx')"
   ]
  },
  {
   "cell_type": "code",
   "execution_count": 3,
   "id": "530f94f4",
   "metadata": {},
   "outputs": [],
   "source": [
    "ws2 = wb1.create_sheet()\n",
    "\n",
    "ws2.title = \"数値計算早見表２\"\n",
    "for i in range(len(row_titles)):\n",
    "    cell = ws2.cell(row=i+1, column=1) #excel の行列は 1 から\n",
    "    cell.value = row_titles[i]\n",
    "for i in range(10):\n",
    "    for j in range(len(calcs)):\n",
    "        cell = ws2.cell(row=j+1, column=i+2)\n",
    "        cell.value = calcs[j](i + 1 + 100)\n",
    "        \n",
    "wb1.save('calc_data2.xlsx')"
   ]
  },
  {
   "cell_type": "code",
   "execution_count": 4,
   "id": "40a68170",
   "metadata": {},
   "outputs": [],
   "source": [
    "from openpyxl.styles import NamedStyle, PatternFill, Font\n",
    "from openpyxl.styles.colors import Color"
   ]
  },
  {
   "cell_type": "code",
   "execution_count": 5,
   "id": "c47538a8",
   "metadata": {},
   "outputs": [],
   "source": [
    "headings = NamedStyle(\n",
    "    name = 'headings',\n",
    "    font = Font(size=14, color=\"FFFFFFFF\"),\n",
    "    fill = PatternFill(patternType='solid', fgColor=Color(rgb='1e90ff'))\n",
    ")\n",
    "for ws in [ws1, ws2]:\n",
    "    for i in range(len(row_titles)):\n",
    "        cell = ws.cell(row=i+1, column=1) #excel の行列は 1 から\n",
    "        cell.style = headings\n",
    "    for i in range(10):\n",
    "        cell = ws.cell(row=1, column=i+2) #excel の行列は 1 から\n",
    "        cell.style = headings\n",
    "ws1.column_dimensions['A'].width = 15\n",
    "ws2.column_dimensions['A'].width = 15\n",
    "\n",
    "wb1.save('calc_data3.xlsx')"
   ]
  },
  {
   "cell_type": "markdown",
   "id": "0501039d",
   "metadata": {},
   "source": [
    "# Excel --> Word"
   ]
  },
  {
   "cell_type": "code",
   "execution_count": 2,
   "id": "ad169ce5",
   "metadata": {},
   "outputs": [],
   "source": [
    "# managers.xlsx を作成\n",
    "from openpyxl import load_workbook\n",
    "from docx import Document\n",
    "from docx.enum.text import WD_ALIGN_PARAGRAPH\n",
    "from docx.shared import Pt\n",
    "import datetime as dt"
   ]
  },
  {
   "cell_type": "code",
   "execution_count": 4,
   "id": "53a20f8a",
   "metadata": {},
   "outputs": [],
   "source": [
    "wb2 = load_workbook('managers.xlsx', data_only=True)\n",
    "ws = wb2.worksheets[0]\n",
    "\n",
    "data = []\n",
    "for row in ws.values:\n",
    "    data.append(list(row))\n",
    "data = data[1:]  # タイトルを除く\n",
    "\n",
    "doc = Document()\n",
    "for i in range(len(data)):\n",
    "    # 1つ1つ分けたい場合は、doc = Document()をこっちに持ってくる\n",
    "    area = data[i][0]\n",
    "    manager = data[i][1]\n",
    "    users = data[i][2]\n",
    "    willuse = data[i][3]\n",
    "    \n",
    "    p_date = doc.add_paragraph()\n",
    "    p_date.paragraph_format.alignment = WD_ALIGN_PARAGRAPH.RIGHT\n",
    "    p_date.text = dt.date.today().strftime('%Y年%#m月%#d日')\n",
    "    \n",
    "    doc.add_paragraph().text = f'{area}市担当'\n",
    "    doc.add_paragraph().text = f'{manager}様'\n",
    "\n",
    "    p_right = doc.add_paragraph()\n",
    "    p_right.paragraph_format.alignment = WD_ALIGN_PARAGRAPH.RIGHT\n",
    "    p_right.text = 'サービス利用促進プロジェクト　渋谷'\n",
    "\n",
    "    p_large = doc.add_paragraph()\n",
    "    p_large.paragraph_format.alignment = WD_ALIGN_PARAGRAPH.CENTER\n",
    "    run_pl = p_large.add_run()\n",
    "    run_pl.font.size = Pt(14)\n",
    "    run_pl.text = '2020年度利用調査概要'\n",
    "\n",
    "    doc.add_paragraph().text = '本サービスの利用促進にご尽力ありがとうございます。2020年度の利用調査を集計いたしました。'\n",
    "    \n",
    "    p_d = doc.add_paragraph()\n",
    "    p_d.add_run().text = f'{manager}様がご担当の{area}市では、'\n",
    "    p_d.add_run().text = f'{users}名のお客様が'\n",
    "    p_d.add_run().text = f'本サービスを利用されています。また、'\n",
    "    p_d.add_run().text = f'ご利用予定、またはその可能性があるとお考えの方が'\n",
    "    p_d.add_run().text = f'{willuse}名いらっしゃいます。'\n",
    "    \n",
    "    doc.add_paragraph().text = '  以後、ますます頑張ってください。'\n",
    "    if i < len(data)-1: doc.add_page_break()\n",
    "        \n",
    "    # 1つ1つ作成するときは、ここにdoc.save(area + '地区担当_' + manager + '様.docx')を入れる\n",
    "doc.save('地区担当様.docx')"
   ]
  },
  {
   "cell_type": "code",
   "execution_count": 5,
   "id": "bf082a32",
   "metadata": {},
   "outputs": [],
   "source": [
    "# 円グラフ\n",
    "from openpyxl.chart import PieChart, Reference\n",
    "from openpyxl import load_workbook\n",
    "from openpyxl.chart.label import DataLabelList"
   ]
  },
  {
   "cell_type": "code",
   "execution_count": 6,
   "id": "017a40f1",
   "metadata": {},
   "outputs": [],
   "source": [
    "wb3 = load_workbook('managers.xlsx')\n",
    "ws = wb3.worksheets[0]\n",
    "\n",
    "data = Reference(ws, min_col=3, min_row=2, max_row=8)\n",
    "labels = Reference(ws, min_col=1, min_row=2, max_row=8)\n",
    "\n",
    "pie = PieChart()\n",
    "pie.add_data(data)\n",
    "pie.set_categories(labels)\n",
    "\n",
    "pie.dLbls = DataLabelList(showVal=True)\n",
    "pie.title = \"顧客数\"\n",
    "\n",
    "ws.add_chart(pie, 'B10')\n",
    "\n",
    "wb3.save('managers_pie.xlsx')"
   ]
  },
  {
   "cell_type": "code",
   "execution_count": null,
   "id": "e86698ed",
   "metadata": {},
   "outputs": [],
   "source": []
  },
  {
   "cell_type": "markdown",
   "id": "220d3f83",
   "metadata": {},
   "source": [
    "# PowerPoint"
   ]
  },
  {
   "cell_type": "code",
   "execution_count": 1,
   "id": "24226b05",
   "metadata": {},
   "outputs": [],
   "source": [
    "from pptx import Presentation\n",
    "from pptx.util import Pt"
   ]
  },
  {
   "cell_type": "code",
   "execution_count": 4,
   "id": "48a0626f",
   "metadata": {},
   "outputs": [],
   "source": [
    "prs1 = Presentation()\n",
    "\n",
    "slide1 = prs1.slides.add_slide(prs1.slide_layouts[0]) # タイトルスライド\n",
    "slide1.shapes[0].text = \"新サービスの利用状況\"\n",
    "slide1.shapes[1].text = \"2020年1月~12月\"\n",
    "\n",
    "prs1.save('report1.pptx')"
   ]
  },
  {
   "cell_type": "code",
   "execution_count": 5,
   "id": "e7d7dee4",
   "metadata": {},
   "outputs": [],
   "source": [
    "# 読み込み\n",
    "prs2 = Presentation('report1.pptx')\n",
    "\n",
    "slide1 = prs2.slides[0]\n",
    "slide1.shapes.add_picture('kirby.png', Pt(50), Pt(50), width=Pt(70))\n",
    "\n",
    "prs2.save('report2.pptx')"
   ]
  },
  {
   "cell_type": "code",
   "execution_count": null,
   "id": "eb8d28b6",
   "metadata": {},
   "outputs": [],
   "source": []
  },
  {
   "cell_type": "markdown",
   "id": "c5b5a25e",
   "metadata": {},
   "source": [
    "# 3つのライブラリを使う"
   ]
  },
  {
   "cell_type": "code",
   "execution_count": 6,
   "id": "3e9742cf",
   "metadata": {},
   "outputs": [],
   "source": [
    "from docx import Document\n",
    "from openpyxl import load_workbook\n",
    "from pptx import Presentation\n",
    "from pptx.util import Pt\n",
    "from pptx.chart.data import CategoryChartData\n",
    "from pptx.enum.chart import XL_CHART_TYPE"
   ]
  },
  {
   "cell_type": "code",
   "execution_count": 8,
   "id": "26cc8217",
   "metadata": {},
   "outputs": [],
   "source": [
    "doc = Document('areamemo.docx')\n",
    "areamemo = [p.text for p in doc.paragraphs]                 # 1行目はいらない\n",
    "areainfo = [text.split(':') for text in areamemo[1:]]       # 「:」の後ろを抽出する\n",
    "\n",
    "wb = load_workbook('managers.xlsx', data_only=True)\n",
    "ws = wb.worksheets[0]\n",
    "data = []\n",
    "for row in ws.values:\n",
    "    data.append(list(row))\n",
    "data = data[1:]  # タイトル除く\n",
    "\n",
    "areanames = [list(u) for u in zip(*data)][0]              # zip(*data) は転置\n",
    "users = [list(u) for u in zip(*data)][2]\n",
    "\n",
    "prs3 = Presentation('report2.pptx')\n",
    "slide2 = prs3.slides.add_slide(prs3.slide_layouts[5])\n",
    "slide2.shapes[0].text = '各地区の特徴'\n",
    "categories = ['地区', '顧客数', '特徴']  # 表の作成\n",
    "left = Pt(10)\n",
    "top = Pt(120)\n",
    "width = Pt(700)\n",
    "height = Pt(400)\n",
    "tshape = slide2.shapes.add_table(len(areainfo)+1, len(categories), left, top, width, height)\n",
    "table = tshape.table\n",
    "table.columns[0].width = Pt(100)\n",
    "table.columns[1].width = Pt(100)\n",
    "table.columns[2].width = Pt(500)\n",
    "for i in range(len(categories)):\n",
    "    table.cell(0, i).text = categories[i]\n",
    "for i in range(len(areainfo)):\n",
    "    table.cell(i+1, 0).text = areainfo[i][0]\n",
    "    table.cell(i+1, 1).text = str(users[i])\n",
    "    table.cell(i+1, 2).text = areainfo[i][1]\n",
    "    \n",
    "slide3 = prs3.slides.add_slide(prs3.slide_layouts[5])\n",
    "slide3.shapes[0].text = '地区ごとの顧客数'\n",
    "\n",
    "c_data = CategoryChartData()\n",
    "c_data.categories = areanames\n",
    "c_data.add_series('顧客数', users)\n",
    "slide3.shapes.add_chart(XL_CHART_TYPE.COLUMN_CLUSTERED, left, top, width, height, c_data)\n",
    "\n",
    "prs3.save('report3.pptx')"
   ]
  },
  {
   "cell_type": "code",
   "execution_count": null,
   "id": "bff53a9c",
   "metadata": {},
   "outputs": [],
   "source": []
  },
  {
   "cell_type": "code",
   "execution_count": null,
   "id": "71db9aff",
   "metadata": {},
   "outputs": [],
   "source": []
  },
  {
   "cell_type": "code",
   "execution_count": null,
   "id": "fe9d3856",
   "metadata": {},
   "outputs": [],
   "source": []
  },
  {
   "cell_type": "code",
   "execution_count": null,
   "id": "c00ef025",
   "metadata": {},
   "outputs": [],
   "source": []
  },
  {
   "cell_type": "code",
   "execution_count": null,
   "id": "376235da",
   "metadata": {},
   "outputs": [],
   "source": []
  },
  {
   "cell_type": "code",
   "execution_count": null,
   "id": "118084d2",
   "metadata": {},
   "outputs": [],
   "source": []
  },
  {
   "cell_type": "code",
   "execution_count": null,
   "id": "d32230a7",
   "metadata": {},
   "outputs": [],
   "source": []
  },
  {
   "cell_type": "code",
   "execution_count": null,
   "id": "a0009e2f",
   "metadata": {},
   "outputs": [],
   "source": []
  }
 ],
 "metadata": {
  "kernelspec": {
   "display_name": "Python 3 (ipykernel)",
   "language": "python",
   "name": "python3"
  },
  "language_info": {
   "codemirror_mode": {
    "name": "ipython",
    "version": 3
   },
   "file_extension": ".py",
   "mimetype": "text/x-python",
   "name": "python",
   "nbconvert_exporter": "python",
   "pygments_lexer": "ipython3",
   "version": "3.9.7"
  }
 },
 "nbformat": 4,
 "nbformat_minor": 5
}
