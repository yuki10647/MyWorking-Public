{
 "cells": [
  {
   "cell_type": "code",
   "execution_count": 2,
   "id": "c42daee5",
   "metadata": {},
   "outputs": [],
   "source": [
    "import numpy as np\n",
    "# https://www.numpy.org"
   ]
  },
  {
   "cell_type": "code",
   "execution_count": 3,
   "id": "cb9fefb7",
   "metadata": {},
   "outputs": [
    {
     "name": "stdout",
     "output_type": "stream",
     "text": [
      "[1 4 2 5 3]\n",
      "[[2 3 4]\n",
      " [4 5 6]\n",
      " [6 7 8]]\n",
      "[0 0 0 0 0 0 0 0 0 0]\n",
      "[[1. 1. 1.]\n",
      " [1. 1. 1.]]\n",
      "[[1 2 3]\n",
      " [4 5 6]\n",
      " [7 8 9]]\n"
     ]
    }
   ],
   "source": [
    "#配列の構築\n",
    "print(np.array([1, 4, 2, 5, 3]))\n",
    "print(np.array([range(i, i+3) for i in [2, 4, 6]]))\n",
    "#numpyの特殊関数(ほんの一部)\n",
    "print(np.zeros(10, dtype=int))\n",
    "print(np.ones((2, 3), dtype=float))\n",
    "print(np.arange(1, 10).reshape((3, 3)))"
   ]
  },
  {
   "cell_type": "code",
   "execution_count": 4,
   "id": "f8f050d2",
   "metadata": {},
   "outputs": [
    {
     "name": "stdout",
     "output_type": "stream",
     "text": [
      "[0 5 8 8 5 7]\n",
      "5\n",
      "7\n",
      "[[9 8 5 2]\n",
      " [3 4 8 9]\n",
      " [2 4 7 4]]\n",
      "8\n"
     ]
    }
   ],
   "source": [
    "#インデクス操作\n",
    "#要素のアクセス\n",
    "x1 = np.random.randint(10, size=6)\n",
    "print(x1)\n",
    "print(x1[1])\n",
    "print(x1[-1])\n",
    "\n",
    "x2 = np.random.randint(10, size=(3, 4))\n",
    "print(x2)\n",
    "print(x2[1, 2])"
   ]
  },
  {
   "cell_type": "code",
   "execution_count": 5,
   "id": "827a2389",
   "metadata": {},
   "outputs": [
    {
     "name": "stdout",
     "output_type": "stream",
     "text": [
      "[9 6 5 6 2 5 8 6 8 7]\n",
      "[9 6 5 6 2]\n",
      "[5 8 6 8 7]\n",
      "[6 6 5 6 7]\n",
      "[7 8 6 8 5 2 6 5 6 9]\n",
      "\n",
      "[[3 5 3 2]\n",
      " [2 3 1 4]\n",
      " [1 3 4 1]]\n",
      "[[3 5 3]\n",
      " [2 3 1]]\n",
      "[[3 3]\n",
      " [2 1]\n",
      " [1 4]]\n",
      "[3 2 1]\n",
      "[3 5 3 2]\n"
     ]
    }
   ],
   "source": [
    "#スライス\n",
    "x1 = np.random.randint(10, size=10)\n",
    "print(x1)\n",
    "print(x1[:5])\n",
    "print(x1[5:])\n",
    "print(x1[1::2])\n",
    "print(x1[::-1])\n",
    "print()\n",
    "x2 = np.random.randint(10, size=(3, 4))\n",
    "print(x2)\n",
    "print(x2[:2, :3])\n",
    "print(x2[:3, ::2])\n",
    "print(x2[:, 0])\n",
    "print(x2[0, :])"
   ]
  },
  {
   "cell_type": "code",
   "execution_count": 6,
   "id": "4008b900",
   "metadata": {},
   "outputs": [
    {
     "name": "stdout",
     "output_type": "stream",
     "text": [
      "[[1 2 3]\n",
      " [4 5 6]\n",
      " [7 8 9]]\n",
      "\n",
      "[[1 2 3]]\n",
      "[[1]\n",
      " [2]\n",
      " [3]]\n"
     ]
    }
   ],
   "source": [
    "#形状変更\n",
    "print(np.arange(1, 10).reshape((3, 3)))\n",
    "print()\n",
    "x = np.array([1, 2, 3])\n",
    "print(x[np.newaxis, :])\n",
    "print(x[:, np.newaxis])"
   ]
  },
  {
   "cell_type": "code",
   "execution_count": 7,
   "id": "d59621b3",
   "metadata": {},
   "outputs": [
    {
     "name": "stdout",
     "output_type": "stream",
     "text": [
      "[[1 2 3]\n",
      " [4 5 6]]\n",
      "[1 2 3 4 5 6]\n",
      "\n",
      "[[0 1 2 3]\n",
      " [4 5 6 7]]\n",
      "[[ 8  9 10 11]\n",
      " [12 13 14 15]]\n",
      "\n",
      "[[ 0  1]\n",
      " [ 4  5]\n",
      " [ 8  9]\n",
      " [12 13]]\n",
      "[[ 2  3]\n",
      " [ 6  7]\n",
      " [10 11]\n",
      " [14 15]]\n"
     ]
    }
   ],
   "source": [
    "#分割結合\n",
    "x = np.array([1, 2, 3])\n",
    "y = np.array([4, 5, 6])\n",
    "\n",
    "print(np.vstack([x, y]))\n",
    "print(np.hstack([x, y]))\n",
    "print()\n",
    "\n",
    "z = np.arange(16).reshape((4, 4))\n",
    "\n",
    "upper, lower = np.vsplit(z, [2])\n",
    "print(upper)\n",
    "print(lower)\n",
    "\n",
    "print()\n",
    "\n",
    "left, right = np.hsplit(z, [2])\n",
    "print(left)\n",
    "print(right)\n"
   ]
  },
  {
   "cell_type": "code",
   "execution_count": 8,
   "id": "abdbd316",
   "metadata": {},
   "outputs": [
    {
     "name": "stdout",
     "output_type": "stream",
     "text": [
      "[[ 3  8  8]\n",
      " [ 6  6  6]\n",
      " [10  5  7]]\n",
      "15\n",
      "[ 1  3  6 10 15]\n",
      "[[ 1  2  3  4  5]\n",
      " [ 2  4  6  8 10]\n",
      " [ 3  6  9 12 15]\n",
      " [ 4  8 12 16 20]\n",
      " [ 5 10 15 20 25]]\n"
     ]
    }
   ],
   "source": [
    "#配列の演算、変換\n",
    "x = np.random.randint(1, 10, (3, 3))\n",
    "print(np.add(x, 2))\n",
    "# np.subtract\n",
    "# np.multiply(x, 10, out=y)\n",
    "# np.divide\n",
    "# np.floor_divide\n",
    "# np.power\n",
    "# np.mod\n",
    "# np.abs\n",
    "# np.sin  arcsin\n",
    "# np.cos  arccos\n",
    "# np.tan  arctan\n",
    "# np.exp\n",
    "# np.log\n",
    "\n",
    "#その他の演算\n",
    "x = np.arange(1, 6)\n",
    "\n",
    "print(np.add.reduce(x))\n",
    "print(np.add.accumulate(x))\n",
    "print(np.multiply.outer(x, x))"
   ]
  },
  {
   "cell_type": "code",
   "execution_count": 9,
   "id": "fff72754",
   "metadata": {},
   "outputs": [
    {
     "name": "stdout",
     "output_type": "stream",
     "text": [
      "15\n",
      "0\n",
      "120\n",
      "[12 13 14 15]\n",
      "[ 3  7 11 15]\n"
     ]
    }
   ],
   "source": [
    "#配列の集約\n",
    "x = np.arange(16).reshape((4, 4))\n",
    "\n",
    "print(np.max(x))\n",
    "print(np.min(x))\n",
    "print(np.sum(x))\n",
    "\n",
    "print(x.max(axis=0))\n",
    "print(x.max(axis=1))\n",
    "\n",
    "# np.prod 積\n",
    "# np.mean 平均値\n",
    "# np.std 標準偏差\n",
    "# np.var 分散\n",
    "# np.median 中央値\n",
    "# np.percentile パーセンタイル\n",
    "\n",
    "# np.sum(x < 6) 条件付きカウント　& | ~ ^ が使える\n",
    "# x[x < 5] マスキング操作\n",
    "# np.sort, np.argsort, np.partition"
   ]
  },
  {
   "cell_type": "code",
   "execution_count": 10,
   "id": "64545390",
   "metadata": {},
   "outputs": [
    {
     "name": "stdout",
     "output_type": "stream",
     "text": [
      "[[3 1 4]\n",
      " [5 4 8]\n",
      " [3 7 5]]\n",
      "[[4 8 5]\n",
      " [6 6 2]\n",
      " [6 9 1]]\n",
      "[[ 7  9  9]\n",
      " [11 10 10]\n",
      " [ 9 16  6]]\n",
      "[[-1 -7 -1]\n",
      " [-1 -2  6]\n",
      " [-3 -2  4]]\n",
      "[[12  8 20]\n",
      " [30 24 16]\n",
      " [18 63  5]]\n",
      "[[ 42  66  21]\n",
      " [ 92 136  41]\n",
      " [ 84 111  34]]\n",
      "[[3 5 3]\n",
      " [1 4 7]\n",
      " [4 8 5]]\n",
      "-17.000000000000025\n",
      "[[ 2.11764706 -1.35294118  0.47058824]\n",
      " [ 0.05882353 -0.17647059  0.23529412]\n",
      " [-1.35294118  1.05882353 -0.41176471]]\n"
     ]
    }
   ],
   "source": [
    "#行列\n",
    "a = np.random.randint(0, 10, (3, 3))\n",
    "b = np.random.randint(0, 10, (3, 3))\n",
    "print(a)\n",
    "print(b)\n",
    "print(a+b)\n",
    "print(a-b)\n",
    "print(a*b)\n",
    "print(a@b)\n",
    "print(a.T)\n",
    "print(np.linalg.det(a))\n",
    "print(np.linalg.inv(a))"
   ]
  },
  {
   "cell_type": "code",
   "execution_count": null,
   "id": "d0401994",
   "metadata": {},
   "outputs": [],
   "source": [
    "# ブロードキャスト\n",
    "# ファンシーインデックス\n",
    "# 構造化配列"
   ]
  },
  {
   "cell_type": "code",
   "execution_count": null,
   "id": "7f59b5e4",
   "metadata": {},
   "outputs": [],
   "source": [
    "import scipy\n",
    "# https://www.scipy.org"
   ]
  },
  {
   "cell_type": "code",
   "execution_count": null,
   "id": "bebc5ebc",
   "metadata": {},
   "outputs": [],
   "source": []
  },
  {
   "cell_type": "code",
   "execution_count": null,
   "id": "0cb70639",
   "metadata": {},
   "outputs": [],
   "source": []
  },
  {
   "cell_type": "code",
   "execution_count": null,
   "id": "89654641",
   "metadata": {},
   "outputs": [],
   "source": []
  }
 ],
 "metadata": {
  "kernelspec": {
   "display_name": "Python 3 (ipykernel)",
   "language": "python",
   "name": "python3"
  },
  "language_info": {
   "codemirror_mode": {
    "name": "ipython",
    "version": 3
   },
   "file_extension": ".py",
   "mimetype": "text/x-python",
   "name": "python",
   "nbconvert_exporter": "python",
   "pygments_lexer": "ipython3",
   "version": "3.9.5"
  }
 },
 "nbformat": 4,
 "nbformat_minor": 5
}
