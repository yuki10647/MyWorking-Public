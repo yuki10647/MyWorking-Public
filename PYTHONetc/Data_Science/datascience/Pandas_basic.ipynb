{
 "cells": [
  {
   "cell_type": "code",
   "execution_count": 1,
   "id": "e3407eea",
   "metadata": {},
   "outputs": [],
   "source": [
    "import numpy as np\n",
    "import pandas as pd"
   ]
  },
  {
   "cell_type": "code",
   "execution_count": null,
   "id": "596b7074",
   "metadata": {},
   "outputs": [],
   "source": [
    "# 読み込み, 書き出し\n",
    "df = pd.read_csv('filepath')\n",
    "\n",
    "df.to_csv('result.csv', index=False)"
   ]
  },
  {
   "cell_type": "code",
   "execution_count": 2,
   "id": "ebb7e74a",
   "metadata": {},
   "outputs": [
    {
     "name": "stdout",
     "output_type": "stream",
     "text": [
      "0    2\n",
      "1    4\n",
      "2    6\n",
      "dtype: int64\n",
      "California    38332521\n",
      "Texas         26448193\n",
      "New York      19651127\n",
      "Florida       19552860\n",
      "Illinois      12882135\n",
      "dtype: int64\n",
      "            population\n",
      "California    38332521\n",
      "Texas         26448193\n",
      "New York      19651127\n",
      "Florida       19552860\n",
      "Illinois      12882135\n",
      "            population    area\n",
      "California    38332521  423967\n",
      "Texas         26448193  695622\n",
      "New York      19651127  141297\n",
      "Florida       19552860  170312\n",
      "Illinois      12882135  149995\n"
     ]
    },
    {
     "data": {
      "text/plain": [
       "'多重インデクス、Multiindex'"
      ]
     },
     "execution_count": 2,
     "metadata": {},
     "output_type": "execute_result"
    }
   ],
   "source": [
    "#Series作成\n",
    "S1 = pd.Series([2, 4, 6]) #リスト, Numpy配列\n",
    "S2 = pd.Series({'California' : 38332521, \n",
    "                'Texas' : 26448193, \n",
    "                'New York' : 19651127,\n",
    "                'Florida' : 19552860,\n",
    "                'Illinois' : 12882135})\n",
    "\n",
    "print(S1)\n",
    "print(S2)\n",
    "\n",
    "S3 = pd.Series({'California' : 423967, \n",
    "                'Texas' : 695622, \n",
    "                'New York' : 141297,\n",
    "                'Florida' : 170312,\n",
    "                'Illinois' : 149995})\n",
    "\n",
    "#DataFrame作成\n",
    "D1 = pd.DataFrame(S2, columns=['population'])\n",
    "D2 = pd.DataFrame({'population' : S2,\n",
    "                   'area' : S3})\n",
    "\"\"\"pd.DataFrame(data, columns=['', ''], index=['', '', ''])\"\"\"\n",
    "print(D1)\n",
    "print(D2)\n",
    "\"\"\"多重インデクス、Multiindex\"\"\""
   ]
  },
  {
   "cell_type": "code",
   "execution_count": 3,
   "id": "804fbe62",
   "metadata": {},
   "outputs": [
    {
     "name": "stdout",
     "output_type": "stream",
     "text": [
      "            population    area     density\n",
      "California    38332521  423967   90.413926\n",
      "Texas         26448193  695622   38.020927\n",
      "New York      19651127  141297  139.076746\n",
      "Florida       19552860  170312  114.806121\n",
      "Illinois      12882135  149995   85.883763\n",
      "\n",
      "            population    area\n",
      "California    38332521  423967\n",
      "Texas         26448193  695622\n",
      "New York      19651127  141297\n",
      "            population    area\n",
      "California    38332521  423967\n",
      "Texas         26448193  695622\n",
      "New York      19651127  141297\n",
      "\n",
      "          population    area     density\n",
      "Texas       26448193  695622   38.020927\n",
      "New York    19651127  141297  139.076746\n",
      "          population    area     density\n",
      "Texas       26448193  695622   38.020927\n",
      "New York    19651127  141297  139.076746\n",
      "Florida     19552860  170312  114.806121\n",
      "\n",
      "          population    area     density\n",
      "New York    19651127  141297  139.076746\n",
      "Florida     19552860  170312  114.806121\n",
      "          population     density\n",
      "New York    19651127  139.076746\n",
      "Florida     19552860  114.806121\n"
     ]
    },
    {
     "data": {
      "text/plain": [
       "\"\\ndf[df['country'] == 'USA']\\ndf[(df['age'] >= 20) and (df['age'] <= 30)]\\n\""
      ]
     },
     "execution_count": 3,
     "metadata": {},
     "output_type": "execute_result"
    }
   ],
   "source": [
    "# 行列抽出　条件抽出\n",
    "D2['density'] = D2['population'] / D2['area']\n",
    "print(D2)\n",
    "print()\n",
    "# D2[['density']][1:]\n",
    "print(D2.iloc[:3 ,:2])\n",
    "print(D2.loc[:'New York' ,:'area'])\n",
    "print()\n",
    "print(D2[1:3])\n",
    "print(D2['Texas':'Florida'])\n",
    "print()\n",
    "print(D2[D2['density'] > 100])\n",
    "print(D2.loc[D2['density'] > 100, ['population', 'density']])\n",
    "\n",
    "\"\"\"\n",
    "df[df['country'] == 'USA']\n",
    "df[(df['age'] >= 20) and (df['age'] <= 30)]\n",
    "\"\"\""
   ]
  },
  {
   "cell_type": "code",
   "execution_count": null,
   "id": "cdc2be69",
   "metadata": {},
   "outputs": [],
   "source": [
    "# 条件抽出のプラスアルファ\n",
    "\"\"\"\n",
    "df.query('columns == \"USA\"')          ==     df[df['columns'] == \"USA\"]\n",
    "df.query('age >= 20 and age<= 30')    ==     df[(df['age'] >= 20) and (df['age'] <= 30)]\n",
    "\"\"\""
   ]
  },
  {
   "cell_type": "code",
   "execution_count": null,
   "id": "9d6cf6cc",
   "metadata": {},
   "outputs": [],
   "source": [
    "# 一つしかない値、重なっている値の扱い\n",
    "df.unique\n",
    "df.drop_duplicates\n",
    "# 並び替え\n",
    "df.sort_value('density')\n",
    "# 出現回数\n",
    "df['month'].value_counts('Jan')"
   ]
  },
  {
   "cell_type": "code",
   "execution_count": null,
   "id": "0a622c5b",
   "metadata": {},
   "outputs": [],
   "source": [
    "# コラム名変更\n",
    "df.columns = ['', '']\n",
    "df = df.rename(columns = {'平均気温':'平均'})  #何から何に"
   ]
  },
  {
   "cell_type": "code",
   "execution_count": null,
   "id": "3bc57ccb",
   "metadata": {},
   "outputs": [],
   "source": [
    "#ダミー変数化\n",
    "pd.get_dummies(df[''])"
   ]
  },
  {
   "cell_type": "code",
   "execution_count": null,
   "id": "00ce16e5",
   "metadata": {},
   "outputs": [],
   "source": [
    "# 欠損値\n",
    "df.isnull().sum()\n",
    "df.fillna(df['price'].median)\n",
    "df.dropna()"
   ]
  },
  {
   "cell_type": "code",
   "execution_count": 7,
   "id": "3dbe5fe5",
   "metadata": {},
   "outputs": [
    {
     "name": "stdout",
     "output_type": "stream",
     "text": [
      "    A   B\n",
      "1  A1  B1\n",
      "2  A2  B2\n",
      "    A   B\n",
      "3  A3  B3\n",
      "4  A4  B4\n",
      "    C   D\n",
      "1  C1  D1\n",
      "2  C2  D2\n",
      "\n",
      "    A   B\n",
      "1  A1  B1\n",
      "2  A2  B2\n",
      "3  A3  B3\n",
      "4  A4  B4\n",
      "    A   B   C   D\n",
      "1  A1  B1  C1  D1\n",
      "2  A2  B2  C2  D2\n"
     ]
    }
   ],
   "source": [
    "# データの連結\n",
    "def make_df(cols, ind):\n",
    "    data = {c : [str(c) + str(i) for i in ind] for c in cols}\n",
    "    return pd.DataFrame(data, ind)\n",
    "\n",
    "df1 = make_df('AB', [1, 2])\n",
    "df2 = make_df('AB', [3, 4])\n",
    "df3 = make_df('CD', [1, 2])\n",
    "print(df1)\n",
    "print(df2)\n",
    "print(df3)\n",
    "print()\n",
    "\n",
    "print(pd.concat([df1, df2], axis=0))\n",
    "print(pd.concat([df1, df3], axis=1))\n",
    "\"\"\"\n",
    "http://pandas.pydata.org/pandas-docs/stable/merging.html\n",
    "\n",
    "df1.append(df2)\n",
    "pd.merge()\n",
    "\"\"\""
   ]
  },
  {
   "cell_type": "code",
   "execution_count": null,
   "id": "50642f8e",
   "metadata": {},
   "outputs": [],
   "source": [
    "df.groupby('method')['year']\n",
    "df.groupby(df['key']).sum()\n",
    "#yearの情報をmethod別に見たい\n",
    "#indexにmethod名、データにyearの値が入る\n",
    "#key別に合計を取る"
   ]
  },
  {
   "cell_type": "code",
   "execution_count": null,
   "id": "bd79faca",
   "metadata": {},
   "outputs": [],
   "source": [
    "# 統計量\n",
    "df.head() # 最初の10データ\n",
    "df.tail() # 最後の10データ\n",
    "df.mean() # 平均値\n",
    "df.median() # 中央値\n",
    "df.std() # 標準偏差\n",
    "df.describe() # 色々なデータ、これ一つ実行すればよい\n",
    "df.value_counts() # 要素のカウント\n"
   ]
  },
  {
   "cell_type": "code",
   "execution_count": 10,
   "id": "36f50094",
   "metadata": {},
   "outputs": [
    {
     "name": "stdout",
     "output_type": "stream",
     "text": [
      "DatetimeIndex(['2015-07-03', '2015-07-04', '2015-07-06', '2015-07-07',\n",
      "               '2015-07-08'],\n",
      "              dtype='datetime64[ns]', freq=None)\n"
     ]
    }
   ],
   "source": [
    "# 時系列分析\n",
    "# Pythonのdatetime, dateutilモジュールでも\n",
    "# Numpyの中にもあるが、pandasが一番使いやすい\n",
    "from datetime import datetime\n",
    "dates = pd.to_datetime([datetime(2015, 7, 3), '4th of July, 2015', \n",
    "                        '2015-Jul-6', '07-07-2015', '20150708'])\n",
    "print(dates)\n",
    "\"\"\"\n",
    "pd.date_range('2015-07-03', periods=8, freq='H')\n",
    "pd.date_range('2015-07-03', '2015-07-10')\n",
    "pd.period_range('2015-07', periods=8, freq='M')\n",
    "pd.timedelta_range(0, periods=10, freq='H')\n",
    "\"\"\""
   ]
  },
  {
   "cell_type": "code",
   "execution_count": null,
   "id": "caacf111",
   "metadata": {},
   "outputs": [],
   "source": []
  }
 ],
 "metadata": {
  "kernelspec": {
   "display_name": "Python 3 (ipykernel)",
   "language": "python",
   "name": "python3"
  },
  "language_info": {
   "codemirror_mode": {
    "name": "ipython",
    "version": 3
   },
   "file_extension": ".py",
   "mimetype": "text/x-python",
   "name": "python",
   "nbconvert_exporter": "python",
   "pygments_lexer": "ipython3",
   "version": "3.9.5"
  }
 },
 "nbformat": 4,
 "nbformat_minor": 5
}
