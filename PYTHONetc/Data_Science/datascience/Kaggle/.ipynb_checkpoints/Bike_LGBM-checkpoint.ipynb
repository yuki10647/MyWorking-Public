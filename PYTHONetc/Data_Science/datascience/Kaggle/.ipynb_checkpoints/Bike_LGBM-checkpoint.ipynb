{
 "cells": [
  {
   "cell_type": "code",
   "execution_count": null,
   "id": "61a3a719",
   "metadata": {},
   "outputs": [],
   "source": [
    "#https://mathmatical22.xyz/\n",
    "#https://lightgbm.readthedocs.io/en/latest/pythonapi/lightgbm.LGBMRegressor.html\n",
    "#https://qiita.com/c60evaporator/items/351188110f328ff921b9"
   ]
  },
  {
   "cell_type": "code",
   "execution_count": null,
   "id": "57704c75",
   "metadata": {},
   "outputs": [],
   "source": [
    "from math import sqrt\n",
    "import numpy as np\n",
    "import pandas as pd\n",
    "import matplotlib\n",
    "import matplotlib.pyplot as plt\n",
    "import seaborn as sns\n",
    "from sklearn.linear_model import LinearRegression\n",
    "from sklearn import metrics\n",
    "from sklearn.metrics import mean_squared_log_error,mean_squared_error\n",
    "from sklearn.model_selection import KFold\n",
    "import lightgbm as lgb\n",
    "\n",
    "import warnings\n",
    "pd.options.mode.chained_assignment = None\n",
    "warnings.filterwarnings(\"ignore\", category=DeprecationWarning)\n",
    "\n",
    "%matplotlib  inline"
   ]
  },
  {
   "cell_type": "code",
   "execution_count": null,
   "id": "5507342e",
   "metadata": {},
   "outputs": [],
   "source": [
    "train =  pd.read_csv('trainofbike.csv',  parse_dates = ['datetime'])\n",
    "test = pd.read_csv('testofbike.csv', parse_dates = ['datetime'])"
   ]
  },
  {
   "cell_type": "code",
   "execution_count": null,
   "id": "8318a4da",
   "metadata": {},
   "outputs": [],
   "source": [
    "#datetimeの変換\n",
    "import datetime as dt\n",
    "train['day'] = train.datetime.dt.day\n",
    "train['hour'] = train.datetime.dt.hour\n",
    "train['weekday'] = train.datetime.dt.weekday\n",
    "train['year'] = train.datetime.dt.year\n",
    "train['month'] = train.datetime.dt.month\n",
    "test['day'] = test.datetime.dt.day\n",
    "test['hour'] = test.datetime.dt.hour\n",
    "test['weekday'] = test.datetime.dt.weekday\n",
    "test['year'] = test.datetime.dt.year\n",
    "test['month'] = test.datetime.dt.month"
   ]
  },
  {
   "cell_type": "code",
   "execution_count": null,
   "id": "52940bd6",
   "metadata": {},
   "outputs": [],
   "source": [
    "# ベース(datetime分解あり)\n",
    "train_0 = train.drop(columns = ['datetime', 'casual', 'registered', 'count'])\n",
    "train_y = train['count']\n",
    "test_0 = test.drop(columns = ['datetime'])\n",
    "test_datetime = test['datetime']"
   ]
  },
  {
   "cell_type": "markdown",
   "id": "5bf43b8d",
   "metadata": {},
   "source": [
    "# LightGBMで普通に予測(グラフ化)"
   ]
  },
  {
   "cell_type": "code",
   "execution_count": null,
   "id": "7c4da567",
   "metadata": {},
   "outputs": [],
   "source": [
    "kf = KFold(n_splits=10, shuffle=True, random_state=1).split(train_0, train_y)\n",
    "kf_ = list(kf)\n",
    "\n",
    "cnt = 0\n",
    "sum = 0\n",
    "for Ktrain, Ktest in kf_:\n",
    "    cnt += 1\n",
    "    model = lgb.LGBMRegressor()\n",
    "    model.fit(train_0.loc[Ktrain],\n",
    "              train_y.loc[Ktrain],\n",
    "              eval_set = [(train_0.loc[Ktest], train_y.loc[Ktest])],\n",
    "              eval_metric = 'rmsle',                         #rmsleがない\n",
    "              verbose=0)\n",
    " \n",
    "    y_pred = model.predict(train_0.loc[Ktest])\n",
    "    y_pred[y_pred < 0] = 0                                    #負の値が出てしまった。\n",
    "    \n",
    "    print(f\"Fold:{cnt}\")\n",
    "    print('RMSLE:', np.sqrt(mean_squared_log_error(train_y.loc[Ktest], y_pred)))\n",
    "    diff = train_y.loc[Ktest] - y_pred\n",
    "    print(diff[diff<0].sum())\n",
    "    print(diff[diff>0].sum())\n",
    "    \n",
    "    true_df = train.loc[Ktest][['count', 'hour']].groupby(['hour'], as_index = True).mean().sort_values(by = 'count')\n",
    "    \n",
    "    trainhour = train_0.loc[Ktest]['hour'].reset_index()\n",
    "    pred_df = pd.concat([trainhour['hour'], pd.Series(y_pred)], axis=1)\n",
    "    pred_df.columns = ['hour','predict']\n",
    "    pred_df = pred_df.groupby(['hour'], as_index = True).mean().sort_values(by = 'predict')\n",
    "    \n",
    "    fig = plt.figure(figsize=(15,5))\n",
    "    sns.lineplot(data=true_df, palette='Oranges')\n",
    "    sns.lineplot(data=pred_df, palette='Blues')\n",
    "    plt.show()"
   ]
  },
  {
   "cell_type": "code",
   "execution_count": null,
   "id": "93a7b8fd",
   "metadata": {},
   "outputs": [],
   "source": [
    "model = lgb.LGBMRegressor()\n",
    "model.fit(train_0, train_y)\n",
    "y_pred_test = model.predict(test_0)\n",
    "y_pred_test[y_pred_test < 0] = 0  \n",
    "sub0 = pd.concat([test_datetime, pd.Series(y_pred_test)], axis=1)\n",
    "sub0.columns = ['datetime','count']\n",
    "sub0"
   ]
  },
  {
   "cell_type": "code",
   "execution_count": null,
   "id": "a7ab5a3c",
   "metadata": {},
   "outputs": [],
   "source": [
    "sub0.to_csv('bikeLGBM.csv', index = False)"
   ]
  },
  {
   "cell_type": "markdown",
   "id": "c6939307",
   "metadata": {},
   "source": [
    "# casual registeredを分ける"
   ]
  },
  {
   "cell_type": "code",
   "execution_count": null,
   "id": "24006fc3",
   "metadata": {},
   "outputs": [],
   "source": [
    "train_casual = train['casual']\n",
    "train_regis = train['registered']"
   ]
  },
  {
   "cell_type": "code",
   "execution_count": null,
   "id": "021b451e",
   "metadata": {},
   "outputs": [],
   "source": [
    "#casual\n",
    "kf = KFold(n_splits=10, shuffle=True, random_state=1).split(train_0, train_casual)\n",
    "kf_ = list(kf)\n",
    "\n",
    "cnt = 0\n",
    "sum = 0\n",
    "for Ktrain, Ktest in kf_:\n",
    "    cnt += 1\n",
    "    model = lgb.LGBMRegressor()\n",
    "    model.fit(train_0.loc[Ktrain],\n",
    "              train_casual.loc[Ktrain],\n",
    "              eval_set = [(train_0.loc[Ktest], train_casual.loc[Ktest])],\n",
    "              eval_metric = 'rmsle',                         #rmsleがない\n",
    "              verbose=0)\n",
    " \n",
    "    y_pred = model.predict(train_0.loc[Ktest])\n",
    "    y_pred[y_pred < 0] = 0                                    #負の値が出てしまった。\n",
    "    \n",
    "    print(f\"Fold:{cnt}\")\n",
    "    print('RMSLE:', np.sqrt(mean_squared_log_error(train_casual.loc[Ktest], y_pred)))\n",
    "    diff = train_casual.loc[Ktest] - y_pred\n",
    "    print(diff[diff<0].sum())\n",
    "    print(diff[diff>0].sum())\n",
    "    \n",
    "    true_df = train.loc[Ktest][['casual', 'hour']].groupby(['hour'], as_index = True).mean().sort_values(by = 'casual')\n",
    "    \n",
    "    trainhour = train_0.loc[Ktest]['hour'].reset_index()\n",
    "    pred_df = pd.concat([trainhour['hour'], pd.Series(y_pred)], axis=1)\n",
    "    pred_df.columns = ['hour','predict']\n",
    "    pred_df = pred_df.groupby(['hour'], as_index = True).mean().sort_values(by = 'predict')\n",
    "    \n",
    "    fig = plt.figure(figsize=(15,5))\n",
    "    sns.lineplot(data=true_df, palette='Oranges')\n",
    "    sns.lineplot(data=pred_df, palette='Blues')\n",
    "    plt.show()"
   ]
  },
  {
   "cell_type": "code",
   "execution_count": null,
   "id": "a3d4f19b",
   "metadata": {},
   "outputs": [],
   "source": [
    "#registered\n",
    "kf = KFold(n_splits=10, shuffle=True, random_state=1).split(train_0, train_regis)\n",
    "kf_ = list(kf)\n",
    "\n",
    "cnt = 0\n",
    "sum = 0\n",
    "for Ktrain, Ktest in kf_:\n",
    "    cnt += 1\n",
    "    model = lgb.LGBMRegressor()\n",
    "    model.fit(train_0.loc[Ktrain],\n",
    "              train_regis.loc[Ktrain],\n",
    "              eval_set = [(train_0.loc[Ktest], train_regis.loc[Ktest])],\n",
    "              eval_metric = 'rmsle',                         #rmsleがない\n",
    "              verbose=0)\n",
    " \n",
    "    y_pred = model.predict(train_0.loc[Ktest])\n",
    "    y_pred[y_pred < 0] = 0                                    #負の値が出てしまった。\n",
    "    \n",
    "    print(f\"Fold:{cnt}\")\n",
    "    print('RMSLE:', np.sqrt(mean_squared_log_error(train_regis.loc[Ktest], y_pred)))\n",
    "    diff = train_regis.loc[Ktest] - y_pred\n",
    "    print(diff[diff<0].sum())\n",
    "    print(diff[diff>0].sum())\n",
    "    \n",
    "    true_df = train.loc[Ktest][['registered', 'hour']].groupby(['hour'], as_index = True).mean().sort_values(by = 'registered')\n",
    "    \n",
    "    trainhour = train_0.loc[Ktest]['hour'].reset_index()\n",
    "    pred_df = pd.concat([trainhour['hour'], pd.Series(y_pred)], axis=1)\n",
    "    pred_df.columns = ['hour','predict']\n",
    "    pred_df = pred_df.groupby(['hour'], as_index = True).mean().sort_values(by = 'predict')\n",
    "    \n",
    "    fig = plt.figure(figsize=(15,5))\n",
    "    sns.lineplot(data=true_df, palette='Oranges')\n",
    "    sns.lineplot(data=pred_df, palette='Blues')\n",
    "    plt.show()"
   ]
  },
  {
   "cell_type": "code",
   "execution_count": null,
   "id": "9bdd9e2b",
   "metadata": {},
   "outputs": [],
   "source": [
    "#casual + registered\n",
    "model = lgb.LGBMRegressor()\n",
    "model.fit(train_0, train_casual)\n",
    "y_pred_casual = model.predict(test_0)\n",
    "y_pred_casual[y_pred_casual < 0] = 0  \n",
    "\n",
    "model = lgb.LGBMRegressor()\n",
    "model.fit(train_0, train_regis)\n",
    "y_pred_regis = model.predict(test_0)\n",
    "y_pred_regis[y_pred_regis < 0] = 0\n",
    "\n",
    "y_pred_test = y_pred_casual + y_pred_regis\n",
    "\n",
    "sub0 = pd.concat([test_datetime, pd.Series(y_pred_test)], axis=1)\n",
    "sub0.columns = ['datetime','count']\n",
    "sub0"
   ]
  },
  {
   "cell_type": "code",
   "execution_count": null,
   "id": "a7e0acbd",
   "metadata": {},
   "outputs": [],
   "source": [
    "sub0.to_csv('casuregi.csv', index = False)\n",
    "#kaggle 0.491"
   ]
  },
  {
   "cell_type": "markdown",
   "id": "ba1e3cce",
   "metadata": {},
   "source": [
    "# count log を取る"
   ]
  },
  {
   "cell_type": "code",
   "execution_count": null,
   "id": "c7cb2e45",
   "metadata": {},
   "outputs": [],
   "source": [
    "train_y_log = np.log1p(train_y + 1)"
   ]
  },
  {
   "cell_type": "code",
   "execution_count": null,
   "id": "23830374",
   "metadata": {},
   "outputs": [],
   "source": [
    "kf = KFold(n_splits=10, shuffle=True, random_state=1).split(train_0, train_y_log)\n",
    "kf_ = list(kf)\n",
    "\n",
    "cnt = 0\n",
    "sum = 0\n",
    "for Ktrain, Ktest in kf_:\n",
    "    cnt += 1\n",
    "    model = lgb.LGBMRegressor()\n",
    "    model.fit(train_0.loc[Ktrain],\n",
    "              train_y_log.loc[Ktrain],\n",
    "              eval_set = [(train_0.loc[Ktest], train_y_log.loc[Ktest])],\n",
    "              eval_metric = 'rmsle',                         \n",
    "              verbose=0)\n",
    " \n",
    "    y_pred_log = model.predict(train_0.loc[Ktest])\n",
    "    y_pred = np.exp(y_pred_log) - 1\n",
    "    #y_pred[y_pred < 0] = 0                                    \n",
    "    \n",
    "    print(f\"Fold:{cnt}\")\n",
    "    print('RMSLE:', np.sqrt(mean_squared_log_error(train_y.loc[Ktest], y_pred)))\n",
    "    diff = train_y.loc[Ktest] - y_pred\n",
    "    print(diff[diff<0].sum())\n",
    "    print(diff[diff>0].sum())\n",
    "    \n",
    "    true_df = train.loc[Ktest][['count', 'hour']].groupby(['hour'], as_index = True).mean().sort_values(by = 'count')\n",
    "    \n",
    "    trainhour = train_0.loc[Ktest]['hour'].reset_index()\n",
    "    pred_df = pd.concat([trainhour['hour'], pd.Series(y_pred)], axis=1)\n",
    "    pred_df.columns = ['hour','predict']\n",
    "    pred_df = pred_df.groupby(['hour'], as_index = True).mean().sort_values(by = 'predict')\n",
    "    \n",
    "    fig = plt.figure(figsize=(15,5))\n",
    "    sns.lineplot(data=true_df, palette='Oranges')\n",
    "    sns.lineplot(data=pred_df, palette='Blues')\n",
    "    plt.show()"
   ]
  },
  {
   "cell_type": "code",
   "execution_count": null,
   "id": "d73acf0d",
   "metadata": {},
   "outputs": [],
   "source": [
    "model = lgb.LGBMRegressor()\n",
    "model.fit(train_0, train_y_log)\n",
    "y_pred_log = model.predict(test_0)\n",
    "y_pred_test = np.exp(y_pred_log) - 1\n",
    "sub0 = pd.concat([test_datetime, pd.Series(y_pred_test)], axis=1)\n",
    "sub0.columns = ['datetime','count']\n",
    "sub0"
   ]
  },
  {
   "cell_type": "code",
   "execution_count": null,
   "id": "14033aee",
   "metadata": {},
   "outputs": [],
   "source": [
    "sub0.to_csv('bikeLGBM_log.csv', index = False)"
   ]
  },
  {
   "cell_type": "markdown",
   "id": "f136e0d6",
   "metadata": {},
   "source": [
    "# casual registered で分ける and   log を取る"
   ]
  },
  {
   "cell_type": "code",
   "execution_count": null,
   "id": "f3d1f393",
   "metadata": {},
   "outputs": [],
   "source": [
    "train_casual = train['casual']\n",
    "train_regis = train['registered']\n",
    "train_casual_log = np.log1p(train_casual + 1)\n",
    "train_regis_log = np.log1p(train_regis + 1)"
   ]
  },
  {
   "cell_type": "code",
   "execution_count": null,
   "id": "a8f04130",
   "metadata": {},
   "outputs": [],
   "source": [
    "#casual log\n",
    "kf = KFold(n_splits=10, shuffle=True, random_state=1).split(train_0, train_casual_log)\n",
    "kf_ = list(kf)\n",
    "\n",
    "cnt = 0\n",
    "sum = 0\n",
    "for Ktrain, Ktest in kf_:\n",
    "    cnt += 1\n",
    "    model = lgb.LGBMRegressor()\n",
    "    model.fit(train_0.loc[Ktrain],\n",
    "              train_casual_log.loc[Ktrain],\n",
    "              eval_set = [(train_0.loc[Ktest], train_casual_log.loc[Ktest])],\n",
    "              eval_metric = 'rmsle',                         \n",
    "              verbose=0)\n",
    " \n",
    "    y_pred_log = model.predict(train_0.loc[Ktest])\n",
    "    y_pred = np.exp(y_pred_log) - 1\n",
    "    #y_pred[y_pred < 0] = 0                                    \n",
    "    \n",
    "    print(f\"Fold:{cnt}\")\n",
    "    print('RMSLE:', np.sqrt(mean_squared_log_error(train_casual.loc[Ktest], y_pred)))\n",
    "    diff = train_casual.loc[Ktest] - y_pred\n",
    "    print(diff[diff<0].sum())\n",
    "    print(diff[diff>0].sum())\n",
    "    \n",
    "    true_df = train.loc[Ktest][['casual', 'hour']].groupby(['hour'], as_index = True).mean().sort_values(by = 'casual')\n",
    "    \n",
    "    trainhour = train_0.loc[Ktest]['hour'].reset_index()\n",
    "    pred_df = pd.concat([trainhour['hour'], pd.Series(y_pred)], axis=1)\n",
    "    pred_df.columns = ['hour','predict']\n",
    "    pred_df = pred_df.groupby(['hour'], as_index = True).mean().sort_values(by = 'predict')\n",
    "    \n",
    "    fig = plt.figure(figsize=(15,5))\n",
    "    sns.lineplot(data=true_df, palette='Oranges')\n",
    "    sns.lineplot(data=pred_df, palette='Blues')\n",
    "    plt.show()"
   ]
  },
  {
   "cell_type": "code",
   "execution_count": null,
   "id": "d055e7aa",
   "metadata": {},
   "outputs": [],
   "source": [
    "#registered log\n",
    "kf = KFold(n_splits=10, shuffle=True, random_state=1).split(train_0, train_regis_log)\n",
    "kf_ = list(kf)\n",
    "\n",
    "cnt = 0\n",
    "sum = 0\n",
    "for Ktrain, Ktest in kf_:\n",
    "    cnt += 1\n",
    "    model = lgb.LGBMRegressor()\n",
    "    model.fit(train_0.loc[Ktrain],\n",
    "              train_regis_log.loc[Ktrain],\n",
    "              eval_set = [(train_0.loc[Ktest], train_regis_log.loc[Ktest])],\n",
    "              eval_metric = 'rmsle',                         \n",
    "              verbose=0)\n",
    " \n",
    "    y_pred_log = model.predict(train_0.loc[Ktest])\n",
    "    y_pred = np.exp(y_pred_log) - 1\n",
    "    #y_pred[y_pred < 0] = 0                                    \n",
    "    \n",
    "    print(f\"Fold:{cnt}\")\n",
    "    print('RMSLE:', np.sqrt(mean_squared_log_error(train_regis.loc[Ktest], y_pred)))\n",
    "    diff = train_regis.loc[Ktest] - y_pred\n",
    "    print(diff[diff<0].sum())\n",
    "    print(diff[diff>0].sum())\n",
    "    \n",
    "    true_df = train.loc[Ktest][['registered', 'hour']].groupby(['hour'], as_index = True).mean().sort_values(by = 'registered')\n",
    "    \n",
    "    trainhour = train_0.loc[Ktest]['hour'].reset_index()\n",
    "    pred_df = pd.concat([trainhour['hour'], pd.Series(y_pred)], axis=1)\n",
    "    pred_df.columns = ['hour','predict']\n",
    "    pred_df = pred_df.groupby(['hour'], as_index = True).mean().sort_values(by = 'predict')\n",
    "    \n",
    "    fig = plt.figure(figsize=(15,5))\n",
    "    sns.lineplot(data=true_df, palette='Oranges')\n",
    "    sns.lineplot(data=pred_df, palette='Blues')\n",
    "    plt.show()"
   ]
  },
  {
   "cell_type": "code",
   "execution_count": null,
   "id": "809d333b",
   "metadata": {},
   "outputs": [],
   "source": [
    "#casual + registered log\n",
    "model = lgb.LGBMRegressor()\n",
    "model.fit(train_0, train_casual_log)\n",
    "y_pred_casual = model.predict(test_0)\n",
    "y_pred_casual_ = np.exp(y_pred_casual) - 1\n",
    "\n",
    "model = lgb.LGBMRegressor()\n",
    "model.fit(train_0, train_regis_log)\n",
    "y_pred_regis = model.predict(test_0)\n",
    "y_pred_regis_ = np.exp(y_pred_regis) - 1\n",
    "\n",
    "y_pred_test = y_pred_casual_ + y_pred_regis_\n",
    "\n",
    "sub0 = pd.concat([test_datetime, pd.Series(y_pred_test)], axis=1)\n",
    "sub0.columns = ['datetime','count']\n",
    "sub0"
   ]
  },
  {
   "cell_type": "code",
   "execution_count": null,
   "id": "2d01efa0",
   "metadata": {},
   "outputs": [],
   "source": [
    "sub0.to_csv('casuregi_log.csv', index = False)\n",
    "#kaggle 0.420"
   ]
  },
  {
   "cell_type": "markdown",
   "id": "3858b86f",
   "metadata": {},
   "source": [
    "# パラメータチューニング"
   ]
  },
  {
   "cell_type": "markdown",
   "id": "1761bb74",
   "metadata": {},
   "source": [
    "## まずデフォルトのスコア"
   ]
  },
  {
   "cell_type": "code",
   "execution_count": null,
   "id": "f7509699",
   "metadata": {},
   "outputs": [],
   "source": [
    "model = lgb.LGBMRegressor()\n",
    "model.fit(X_train, y_train_log)\n",
    "y_pred_test = model.predict(X_test)\n",
    "y_pred = np.exp(y_pred_test) - 1\n",
    "np.sqrt(msle(y_test, y_pred))"
   ]
  },
  {
   "cell_type": "markdown",
   "id": "f3f7e20f",
   "metadata": {},
   "source": [
    "## GridSearchCV"
   ]
  },
  {
   "cell_type": "code",
   "execution_count": null,
   "id": "2e82811c",
   "metadata": {},
   "outputs": [],
   "source": [
    "#対数変換をしていない\n",
    "%%time\n",
    "from sklearn.model_selection import GridSearchCV\n",
    "import lightgbm as lgb\n",
    "#合計45万通りの組み合せすべて検証は多すぎる(1000とおり)(4500)(20000)(3000)(1500)\n",
    "cv_params ={'max_depth':[9,10,11],\n",
    "            'min_child_weight':[1,2],\n",
    "            'subsample':[0.1, 0.2, 0.3],\n",
    "            'colsample_bytree':[0.7, 0.8, 0.9],\n",
    "            'reg_alpha':[1e-2, 0.1, 1],\n",
    "            'n_estimators':[1000, 2000],       #earlystop\n",
    "            'reg_lambda':[1, 10, 100],\n",
    "            'learning_rate':[0.1]\n",
    "           }\n",
    "\n",
    "model = lgb.LGBMRegressor(silent=False,n_jobs=-1)\n",
    "model_grid = GridSearchCV(model, cv_params, cv=5, n_jobs=-1)\n",
    "model_grid.fit(X_train,\n",
    "                y_train,\n",
    "                early_stopping_rounds=50,\n",
    "                eval_set=[(X_test, y_test)],\n",
    "                eval_metric='rmsle',\n",
    "                verbose=0)\n",
    "print('optimal_parameters\\n', model_grid.best_params_)"
   ]
  },
  {
   "cell_type": "code",
   "execution_count": null,
   "id": "834910bc",
   "metadata": {},
   "outputs": [],
   "source": [
    "#対数変換した\n",
    "%%time\n",
    "from sklearn.model_selection import GridSearchCV\n",
    "import lightgbm as lgb\n",
    "#合計45万通りの組み合せすべて検証は多すぎる((6561)（4600）\n",
    "cv_params ={'max_depth':[10,11],\n",
    "            'min_child_weight':[1,2],\n",
    "            'subsample':[0.5, 0.6, 0.7, 0.8],\n",
    "            'colsample_bytree':[0.6, 0.7, 0.8, 0.9],\n",
    "            'reg_alpha':[0.01, 0.1, 1,10],\n",
    "            'n_estimators':[1000, 2000],       #earlystop\n",
    "            'reg_lambda':[0.01, 0.01, 0.1],\n",
    "           }\n",
    "\n",
    "model = lgb.LGBMRegressor(silent=False,n_jobs=-1)\n",
    "model_grid = GridSearchCV(model, cv_params, cv=5, n_jobs=-1, scoring='neg_mean_squared_error')\n",
    "model_grid.fit(X_train,\n",
    "                y_train_log,\n",
    "                early_stopping_rounds=50,\n",
    "                eval_set=[(X_test, y_test_log)],\n",
    "                eval_metric='rmse',\n",
    "                verbose=0)\n",
    "print('optimal_parameters\\n', model_grid.best_params_)"
   ]
  },
  {
   "cell_type": "markdown",
   "id": "a97c1232",
   "metadata": {},
   "source": [
    "## RandomizedSearchCV"
   ]
  },
  {
   "cell_type": "code",
   "execution_count": null,
   "id": "4a1b81ed",
   "metadata": {},
   "outputs": [],
   "source": [
    "%%time\n",
    "#対数変換していない\n",
    "from sklearn.model_selection import RandomizedSearchCV\n",
    "import lightgbm as lgb\n",
    "#探索空間（パラメータ候補）を定義する。（合計45万通りの組み合せ）\n",
    "cv_params ={'max_depth':[10],\n",
    "            'min_child_weight':[1,2,3,4,5],\n",
    "            'subsample':[i/10.0 for i in range(6,11)],\n",
    "            'colsample_bytree':[0.7],\n",
    "            'reg_alpha':[1e-6, 1e-5, 1e-4, 1e-3, 1e-2, 0.1, 1],\n",
    "            'n_estimators':[3000],\n",
    "            'reg_lambda':[1e-5, 1e-4, 1e-3, 1e-2, 0.1, 1],\n",
    "            'learning_rate':[0.1]\n",
    "            }\n",
    "model = lgb.LGBMRegressor(silent=False,n_jobs=-1)\n",
    "model_rand = RandomizedSearchCV(model, cv_params, n_iter=200, cv=5, n_jobs=-1)\n",
    "model_rand.fit(X_train,\n",
    "               y_train,\n",
    "               early_stopping_rounds=50,\n",
    "               eval_set=[(X_test, y_test)],\n",
    "               eval_metric='rmse',\n",
    "               verbose=0\n",
    "              )\n",
    "print('optimal_parameters\\n', model_rand.best_params_)"
   ]
  },
  {
   "cell_type": "markdown",
   "id": "08599104",
   "metadata": {},
   "source": [
    "## 確認"
   ]
  },
  {
   "cell_type": "code",
   "execution_count": null,
   "id": "33ecec8a",
   "metadata": {},
   "outputs": [],
   "source": [
    "model = lgb.LGBMRegressor(silent = False,           \n",
    "                          n_jobs = -1,\n",
    "                          max_depth = 10,           \n",
    "                          min_child_weight = 1,     \n",
    "                          subsample = 0.5,           \n",
    "                          colsample_bytree = 0.6,   \n",
    "                          reg_alpha = 0.01,           \n",
    "                          n_estimators = 1000,     \n",
    "                          reg_lambda = 0.1,           \n",
    "                          learning_rate = 0.1        \n",
    "                          )\n",
    "model.fit(X_train, y_train_log)\n",
    "y_pred_test = model.predict(X_test)\n",
    "y_pred = np.exp(y_pred_test) - 1\n",
    "np.sqrt(msle(y_test, y_pred))"
   ]
  },
  {
   "cell_type": "markdown",
   "id": "736ae98c",
   "metadata": {},
   "source": [
    "# その他"
   ]
  },
  {
   "cell_type": "code",
   "execution_count": null,
   "id": "6e0a2584",
   "metadata": {},
   "outputs": [],
   "source": [
    "#対数変換に対応していないものしかない\n",
    "#回帰する\n",
    "import lightgbm as lgb\n",
    "kf = KFold(n_splits=9, shuffle=True, random_state=1).split(X_train, y_train)\n",
    "kf_ = list(kf)\n",
    "model = lgb.LGBMRegressor(silent = False,           \n",
    "                          n_jobs = -1,\n",
    "                          max_depth = 10,           \n",
    "                          min_child_weight = 2,     \n",
    "                          subsample = 0.9,           \n",
    "                          colsample_bytree = 1.0,   \n",
    "                          reg_alpha = 100,           \n",
    "                          n_estimators = 1000,     \n",
    "                          reg_lambda = 0.1,           \n",
    "                          learning_rate = 0.1        \n",
    "                          )\n",
    "scores =[]\n",
    "score = 0\n",
    "\n",
    "diffs = []\n",
    "for train, valid in kf_:\n",
    "    model.fit(X_train.loc[train],\n",
    "              y_train.loc[train],\n",
    "              early_stopping_rounds=50,\n",
    "              eval_set=[(X_train.loc[valid], y_train.loc[valid])],\n",
    "              eval_metric='rmse',\n",
    "              verbose=0\n",
    "              )\n",
    "    prediction = model.predict(X_train.loc[valid])\n",
    "    prediction[prediction < 0] = 0\n",
    "    score = np.sqrt(msle(y_train.loc[valid], prediction))\n",
    "    scores.append(score)\n",
    "    y_true = y_train.loc[valid]\n",
    "    df_diff = prediction - y_true\n",
    "    plus = df_diff[df_diff > 0].sum()\n",
    "    equal = df_diff[df_diff == 0].sum()\n",
    "    minus = df_diff[df_diff < 0].sum()\n",
    "    _ = [plus, equal, minus]\n",
    "    diffs.append(_)\n",
    "mean_score = np.mean(scores) \n",
    "diff_mean = np.mean(np.array(diffs), axis=0)\n",
    "print(f\"mean_score:{mean_score}\\n\")\n",
    "print(f\"plus={diff_mean[0]}\")\n",
    "print(f\"equal={diff_mean[1]}\")\n",
    "print(f\"minus={diff_mean[2]}\")"
   ]
  },
  {
   "cell_type": "code",
   "execution_count": null,
   "id": "ef3a9c21",
   "metadata": {},
   "outputs": [],
   "source": []
  },
  {
   "cell_type": "code",
   "execution_count": null,
   "id": "c40c9e18",
   "metadata": {},
   "outputs": [],
   "source": []
  },
  {
   "cell_type": "code",
   "execution_count": null,
   "id": "b3c825fc",
   "metadata": {},
   "outputs": [],
   "source": []
  },
  {
   "cell_type": "code",
   "execution_count": null,
   "id": "d6a5759f",
   "metadata": {},
   "outputs": [],
   "source": []
  }
 ],
 "metadata": {
  "kernelspec": {
   "display_name": "Python 3 (ipykernel)",
   "language": "python",
   "name": "python3"
  },
  "language_info": {
   "codemirror_mode": {
    "name": "ipython",
    "version": 3
   },
   "file_extension": ".py",
   "mimetype": "text/x-python",
   "name": "python",
   "nbconvert_exporter": "python",
   "pygments_lexer": "ipython3",
   "version": "3.9.5"
  }
 },
 "nbformat": 4,
 "nbformat_minor": 5
}
